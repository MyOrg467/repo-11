{
 "cells": [
  {
   "cell_type": "raw",
   "id": "second-digit",
   "metadata": {
    "id": "second-digit"
   },
   "source": [
    "Arithmetic Operators\n",
    "\n",
    "> Indented block\n",
    "\n",
    "> Indented block\n",
    "\n",
    "\n",
    "\n",
    "\n",
    "1. Parenthese\n",
    "2. Exponent ** \n",
    "3. *, /, // , %\n",
    "4. +, -\n",
    "\n",
    "PEMDAS"
   ]
  },
  {
   "cell_type": "code",
   "execution_count": 1,
   "id": "restricted-collection",
   "metadata": {
    "colab": {
     "base_uri": "https://localhost:8080/"
    },
    "executionInfo": {
     "elapsed": 1777,
     "status": "ok",
     "timestamp": 1621241331514,
     "user": {
      "displayName": "abhi bandgar",
      "photoUrl": "",
      "userId": "00420871405872623314"
     },
     "user_tz": -330
    },
    "id": "restricted-collection",
    "outputId": "af610f03-ca60-4b3d-9488-4fa59391f7b2"
   },
   "outputs": [
    {
     "data": {
      "text/plain": [
       "225"
      ]
     },
     "execution_count": 1,
     "metadata": {},
     "output_type": "execute_result"
    }
   ],
   "source": [
    "15 ** 2"
   ]
  },
  {
   "cell_type": "code",
   "execution_count": 2,
   "id": "extra-grass",
   "metadata": {
    "colab": {
     "base_uri": "https://localhost:8080/"
    },
    "executionInfo": {
     "elapsed": 803,
     "status": "ok",
     "timestamp": 1621241334362,
     "user": {
      "displayName": "abhi bandgar",
      "photoUrl": "",
      "userId": "00420871405872623314"
     },
     "user_tz": -330
    },
    "id": "extra-grass",
    "outputId": "403fd3bc-a232-4855-d7a9-09a351cdc966"
   },
   "outputs": [
    {
     "data": {
      "text/plain": [
       "512"
      ]
     },
     "execution_count": 2,
     "metadata": {},
     "output_type": "execute_result"
    }
   ],
   "source": [
    "8 ** 3"
   ]
  },
  {
   "cell_type": "code",
   "execution_count": 3,
   "id": "terminal-approval",
   "metadata": {
    "colab": {
     "base_uri": "https://localhost:8080/"
    },
    "executionInfo": {
     "elapsed": 1223,
     "status": "ok",
     "timestamp": 1621241338901,
     "user": {
      "displayName": "abhi bandgar",
      "photoUrl": "",
      "userId": "00420871405872623314"
     },
     "user_tz": -330
    },
    "id": "terminal-approval",
    "outputId": "0ced944c-c8ba-4b5f-d593-57e1a83d765f"
   },
   "outputs": [
    {
     "data": {
      "text/plain": [
       "32"
      ]
     },
     "execution_count": 3,
     "metadata": {},
     "output_type": "execute_result"
    }
   ],
   "source": [
    "2 ** 5"
   ]
  },
  {
   "cell_type": "code",
   "execution_count": null,
   "id": "conditional-kelly",
   "metadata": {
    "id": "conditional-kelly"
   },
   "outputs": [],
   "source": [
    "# Floor Division"
   ]
  },
  {
   "cell_type": "code",
   "execution_count": 4,
   "id": "enormous-slope",
   "metadata": {
    "colab": {
     "base_uri": "https://localhost:8080/"
    },
    "executionInfo": {
     "elapsed": 1315,
     "status": "ok",
     "timestamp": 1621241347150,
     "user": {
      "displayName": "abhi bandgar",
      "photoUrl": "",
      "userId": "00420871405872623314"
     },
     "user_tz": -330
    },
    "id": "enormous-slope",
    "outputId": "04e0f76d-5122-4c1c-a1bd-1543d58a7f4c"
   },
   "outputs": [
    {
     "data": {
      "text/plain": [
       "6"
      ]
     },
     "execution_count": 4,
     "metadata": {},
     "output_type": "execute_result"
    }
   ],
   "source": [
    "13 // 2"
   ]
  },
  {
   "cell_type": "code",
   "execution_count": 5,
   "id": "marine-thought",
   "metadata": {
    "colab": {
     "base_uri": "https://localhost:8080/"
    },
    "executionInfo": {
     "elapsed": 1184,
     "status": "ok",
     "timestamp": 1621241350514,
     "user": {
      "displayName": "abhi bandgar",
      "photoUrl": "",
      "userId": "00420871405872623314"
     },
     "user_tz": -330
    },
    "id": "marine-thought",
    "outputId": "32f7a902-0c79-45c1-ac76-9dbbf311fe1d"
   },
   "outputs": [
    {
     "data": {
      "text/plain": [
       "4.375"
      ]
     },
     "execution_count": 5,
     "metadata": {
      "tags": []
     },
     "output_type": "execute_result"
    }
   ],
   "source": [
    "35 / 8"
   ]
  },
  {
   "cell_type": "code",
   "execution_count": 6,
   "id": "third-tennessee",
   "metadata": {
    "colab": {
     "base_uri": "https://localhost:8080/"
    },
    "executionInfo": {
     "elapsed": 962,
     "status": "ok",
     "timestamp": 1621241353707,
     "user": {
      "displayName": "abhi bandgar",
      "photoUrl": "",
      "userId": "00420871405872623314"
     },
     "user_tz": -330
    },
    "id": "third-tennessee",
    "outputId": "a34e658f-9dd1-4f61-e5bf-4f4754fba06b"
   },
   "outputs": [
    {
     "data": {
      "text/plain": [
       "4"
      ]
     },
     "execution_count": 6,
     "metadata": {
      "tags": []
     },
     "output_type": "execute_result"
    }
   ],
   "source": [
    "35 // 8"
   ]
  },
  {
   "cell_type": "code",
   "execution_count": 5,
   "id": "limited-hierarchy",
   "metadata": {
    "colab": {
     "base_uri": "https://localhost:8080/"
    },
    "executionInfo": {
     "elapsed": 1495,
     "status": "ok",
     "timestamp": 1621241357995,
     "user": {
      "displayName": "abhi bandgar",
      "photoUrl": "",
      "userId": "00420871405872623314"
     },
     "user_tz": -330
    },
    "id": "limited-hierarchy",
    "outputId": "1c10d4d8-72e6-459f-cebc-35d2fd2dd8b0"
   },
   "outputs": [
    {
     "data": {
      "text/plain": [
       "5.75"
      ]
     },
     "execution_count": 5,
     "metadata": {},
     "output_type": "execute_result"
    }
   ],
   "source": [
    "23 / 4"
   ]
  },
  {
   "cell_type": "code",
   "execution_count": 6,
   "id": "graphic-livestock",
   "metadata": {
    "colab": {
     "base_uri": "https://localhost:8080/"
    },
    "executionInfo": {
     "elapsed": 1252,
     "status": "ok",
     "timestamp": 1621241362338,
     "user": {
      "displayName": "abhi bandgar",
      "photoUrl": "",
      "userId": "00420871405872623314"
     },
     "user_tz": -330
    },
    "id": "graphic-livestock",
    "outputId": "070c28af-1551-4062-8742-a5b1f28964d9"
   },
   "outputs": [
    {
     "data": {
      "text/plain": [
       "5"
      ]
     },
     "execution_count": 6,
     "metadata": {},
     "output_type": "execute_result"
    }
   ],
   "source": [
    "23 // 4"
   ]
  },
  {
   "cell_type": "code",
   "execution_count": 7,
   "id": "athletic-charleston",
   "metadata": {
    "colab": {
     "base_uri": "https://localhost:8080/"
    },
    "executionInfo": {
     "elapsed": 1460,
     "status": "ok",
     "timestamp": 1621241374021,
     "user": {
      "displayName": "abhi bandgar",
      "photoUrl": "",
      "userId": "00420871405872623314"
     },
     "user_tz": -330
    },
    "id": "athletic-charleston",
    "outputId": "686c6105-63d5-45af-dce7-28b93f624ece"
   },
   "outputs": [
    {
     "data": {
      "text/plain": [
       "3"
      ]
     },
     "execution_count": 7,
     "metadata": {},
     "output_type": "execute_result"
    }
   ],
   "source": [
    "23 % 4"
   ]
  },
  {
   "cell_type": "code",
   "execution_count": 10,
   "id": "classical-landing",
   "metadata": {
    "colab": {
     "base_uri": "https://localhost:8080/"
    },
    "executionInfo": {
     "elapsed": 1539,
     "status": "ok",
     "timestamp": 1621241386155,
     "user": {
      "displayName": "abhi bandgar",
      "photoUrl": "",
      "userId": "00420871405872623314"
     },
     "user_tz": -330
    },
    "id": "classical-landing",
    "outputId": "99ab81e4-8dd6-4c53-bec0-8ce814bf3bda"
   },
   "outputs": [
    {
     "data": {
      "text/plain": [
       "1"
      ]
     },
     "execution_count": 10,
     "metadata": {
      "tags": []
     },
     "output_type": "execute_result"
    }
   ],
   "source": [
    "7 % 2"
   ]
  },
  {
   "cell_type": "code",
   "execution_count": 11,
   "id": "elegant-sister",
   "metadata": {
    "colab": {
     "base_uri": "https://localhost:8080/"
    },
    "executionInfo": {
     "elapsed": 1425,
     "status": "ok",
     "timestamp": 1621241389388,
     "user": {
      "displayName": "abhi bandgar",
      "photoUrl": "",
      "userId": "00420871405872623314"
     },
     "user_tz": -330
    },
    "id": "elegant-sister",
    "outputId": "0b287c23-2e95-435a-8c2c-c4ce4e99f797"
   },
   "outputs": [
    {
     "data": {
      "text/plain": [
       "4.428571428571429"
      ]
     },
     "execution_count": 11,
     "metadata": {
      "tags": []
     },
     "output_type": "execute_result"
    }
   ],
   "source": [
    "31 / 7"
   ]
  },
  {
   "cell_type": "code",
   "execution_count": 12,
   "id": "primary-thread",
   "metadata": {
    "colab": {
     "base_uri": "https://localhost:8080/"
    },
    "executionInfo": {
     "elapsed": 1384,
     "status": "ok",
     "timestamp": 1621241393363,
     "user": {
      "displayName": "abhi bandgar",
      "photoUrl": "",
      "userId": "00420871405872623314"
     },
     "user_tz": -330
    },
    "id": "primary-thread",
    "outputId": "69cefea9-a224-47bd-ec67-50928dd45378"
   },
   "outputs": [
    {
     "data": {
      "text/plain": [
       "4"
      ]
     },
     "execution_count": 12,
     "metadata": {
      "tags": []
     },
     "output_type": "execute_result"
    }
   ],
   "source": [
    "31 // 7"
   ]
  },
  {
   "cell_type": "code",
   "execution_count": 13,
   "id": "present-directive",
   "metadata": {
    "colab": {
     "base_uri": "https://localhost:8080/"
    },
    "executionInfo": {
     "elapsed": 1408,
     "status": "ok",
     "timestamp": 1621241399908,
     "user": {
      "displayName": "abhi bandgar",
      "photoUrl": "",
      "userId": "00420871405872623314"
     },
     "user_tz": -330
    },
    "id": "present-directive",
    "outputId": "87b26516-441a-4934-b2f1-355705a237dd"
   },
   "outputs": [
    {
     "data": {
      "text/plain": [
       "3"
      ]
     },
     "execution_count": 13,
     "metadata": {
      "tags": []
     },
     "output_type": "execute_result"
    }
   ],
   "source": [
    "31 % 7"
   ]
  },
  {
   "cell_type": "code",
   "execution_count": 14,
   "id": "assumed-veteran",
   "metadata": {
    "colab": {
     "base_uri": "https://localhost:8080/"
    },
    "executionInfo": {
     "elapsed": 1783,
     "status": "ok",
     "timestamp": 1621241403488,
     "user": {
      "displayName": "abhi bandgar",
      "photoUrl": "",
      "userId": "00420871405872623314"
     },
     "user_tz": -330
    },
    "id": "assumed-veteran",
    "outputId": "4511bad6-dab4-4ac4-cfff-3d808224ae8c"
   },
   "outputs": [
    {
     "data": {
      "text/plain": [
       "217"
      ]
     },
     "execution_count": 14,
     "metadata": {
      "tags": []
     },
     "output_type": "execute_result"
    }
   ],
   "source": [
    "31 * 7"
   ]
  },
  {
   "cell_type": "code",
   "execution_count": null,
   "id": "activated-madison",
   "metadata": {
    "colab": {
     "base_uri": "https://localhost:8080/"
    },
    "executionInfo": {
     "elapsed": 1127,
     "status": "ok",
     "timestamp": 1620907622220,
     "user": {
      "displayName": "abhi bandgar",
      "photoUrl": "",
      "userId": "00420871405872623314"
     },
     "user_tz": -330
    },
    "id": "activated-madison",
    "outputId": "241ff8f1-1b39-4ac4-cfa3-4caa8b917084"
   },
   "outputs": [
    {
     "data": {
      "text/plain": [
       "27512614111"
      ]
     },
     "execution_count": 17,
     "metadata": {
      "tags": []
     },
     "output_type": "execute_result"
    }
   ],
   "source": [
    "31 ** 7"
   ]
  },
  {
   "cell_type": "code",
   "execution_count": null,
   "id": "given-ceramic",
   "metadata": {
    "colab": {
     "base_uri": "https://localhost:8080/"
    },
    "executionInfo": {
     "elapsed": 1396,
     "status": "ok",
     "timestamp": 1620907624967,
     "user": {
      "displayName": "abhi bandgar",
      "photoUrl": "",
      "userId": "00420871405872623314"
     },
     "user_tz": -330
    },
    "id": "given-ceramic",
    "outputId": "d0e6d42e-5844-4a30-e06a-fcac77f47363"
   },
   "outputs": [
    {
     "data": {
      "text/plain": [
       "38"
      ]
     },
     "execution_count": 18,
     "metadata": {
      "tags": []
     },
     "output_type": "execute_result"
    }
   ],
   "source": [
    "31 + 7"
   ]
  },
  {
   "cell_type": "code",
   "execution_count": null,
   "id": "ahead-scanner",
   "metadata": {
    "colab": {
     "base_uri": "https://localhost:8080/"
    },
    "executionInfo": {
     "elapsed": 1294,
     "status": "ok",
     "timestamp": 1620907625795,
     "user": {
      "displayName": "abhi bandgar",
      "photoUrl": "",
      "userId": "00420871405872623314"
     },
     "user_tz": -330
    },
    "id": "ahead-scanner",
    "outputId": "ec142d2c-d36d-4120-fe23-6a4a2e0571c5"
   },
   "outputs": [
    {
     "data": {
      "text/plain": [
       "24"
      ]
     },
     "execution_count": 19,
     "metadata": {
      "tags": []
     },
     "output_type": "execute_result"
    }
   ],
   "source": [
    "31 - 7"
   ]
  },
  {
   "cell_type": "code",
   "execution_count": 10,
   "id": "patent-karma",
   "metadata": {
    "colab": {
     "base_uri": "https://localhost:8080/"
    },
    "executionInfo": {
     "elapsed": 1279,
     "status": "ok",
     "timestamp": 1620907627814,
     "user": {
      "displayName": "abhi bandgar",
      "photoUrl": "",
      "userId": "00420871405872623314"
     },
     "user_tz": -330
    },
    "id": "patent-karma",
    "outputId": "8600d439-e6fb-4c03-c02e-c614dd19f1ca"
   },
   "outputs": [
    {
     "name": "stdout",
     "output_type": "stream",
     "text": [
      "4.428571428571429\n"
     ]
    },
    {
     "data": {
      "text/plain": [
       "4.43"
      ]
     },
     "execution_count": 10,
     "metadata": {},
     "output_type": "execute_result"
    }
   ],
   "source": [
    "a = 31 / 7\n",
    "print(a)\n",
    "round(a,2,2)"
   ]
  },
  {
   "cell_type": "code",
   "execution_count": null,
   "id": "intimate-round",
   "metadata": {
    "colab": {
     "base_uri": "https://localhost:8080/"
    },
    "executionInfo": {
     "elapsed": 1377,
     "status": "ok",
     "timestamp": 1620907637146,
     "user": {
      "displayName": "abhi bandgar",
      "photoUrl": "",
      "userId": "00420871405872623314"
     },
     "user_tz": -330
    },
    "id": "intimate-round",
    "outputId": "54bf9242-4dd6-44f3-e36e-3eb28521c450"
   },
   "outputs": [
    {
     "data": {
      "text/plain": [
       "45"
      ]
     },
     "execution_count": 21,
     "metadata": {
      "tags": []
     },
     "output_type": "execute_result"
    }
   ],
   "source": [
    "10 + 20 + 5 * 3"
   ]
  },
  {
   "cell_type": "code",
   "execution_count": 11,
   "id": "imported-permit",
   "metadata": {
    "colab": {
     "base_uri": "https://localhost:8080/"
    },
    "executionInfo": {
     "elapsed": 1083,
     "status": "ok",
     "timestamp": 1620907648346,
     "user": {
      "displayName": "abhi bandgar",
      "photoUrl": "",
      "userId": "00420871405872623314"
     },
     "user_tz": -330
    },
    "id": "imported-permit",
    "outputId": "49d72977-a839-406a-eb4e-10027b8ed05e"
   },
   "outputs": [
    {
     "data": {
      "text/plain": [
       "25.0"
      ]
     },
     "execution_count": 11,
     "metadata": {},
     "output_type": "execute_result"
    }
   ],
   "source": [
    "(20 + 30) - 5 * (10 / 2)"
   ]
  },
  {
   "cell_type": "code",
   "execution_count": 12,
   "id": "apparent-investigator",
   "metadata": {
    "colab": {
     "base_uri": "https://localhost:8080/"
    },
    "executionInfo": {
     "elapsed": 1091,
     "status": "ok",
     "timestamp": 1620907653919,
     "user": {
      "displayName": "abhi bandgar",
      "photoUrl": "",
      "userId": "00420871405872623314"
     },
     "user_tz": -330
    },
    "id": "apparent-investigator",
    "outputId": "628d7a78-7ce8-4dd8-a849-8f8bd11a653b"
   },
   "outputs": [
    {
     "data": {
      "text/plain": [
       "25.0"
      ]
     },
     "execution_count": 12,
     "metadata": {},
     "output_type": "execute_result"
    }
   ],
   "source": [
    "20 + 30 - 5 * 10 / 2"
   ]
  },
  {
   "cell_type": "code",
   "execution_count": null,
   "id": "continental-times",
   "metadata": {
    "colab": {
     "base_uri": "https://localhost:8080/"
    },
    "executionInfo": {
     "elapsed": 1156,
     "status": "ok",
     "timestamp": 1620907657505,
     "user": {
      "displayName": "abhi bandgar",
      "photoUrl": "",
      "userId": "00420871405872623314"
     },
     "user_tz": -330
    },
    "id": "continental-times",
    "outputId": "512cc112-4df3-4473-c726-78e19bc9cf9a"
   },
   "outputs": [
    {
     "data": {
      "text/plain": [
       "40.0"
      ]
     },
     "execution_count": 24,
     "metadata": {
      "tags": []
     },
     "output_type": "execute_result"
    }
   ],
   "source": [
    "20 * 10 / 5"
   ]
  },
  {
   "cell_type": "code",
   "execution_count": 20,
   "id": "liked-coffee",
   "metadata": {
    "colab": {
     "base_uri": "https://localhost:8080/"
    },
    "executionInfo": {
     "elapsed": 1231,
     "status": "ok",
     "timestamp": 1620907666214,
     "user": {
      "displayName": "abhi bandgar",
      "photoUrl": "",
      "userId": "00420871405872623314"
     },
     "user_tz": -330
    },
    "id": "liked-coffee",
    "outputId": "22233aa9-f1a4-45fe-b081-7af0ee290f67"
   },
   "outputs": [
    {
     "data": {
      "text/plain": [
       "147"
      ]
     },
     "execution_count": 20,
     "metadata": {},
     "output_type": "execute_result"
    }
   ],
   "source": [
    "x = 5\n",
    "# y = 5x^2 + 3x + 7\n",
    "y = 5 * (x ** 2) + 3*x + 7\n",
    "y"
   ]
  },
  {
   "cell_type": "code",
   "execution_count": 19,
   "id": "weighted-interaction",
   "metadata": {
    "colab": {
     "base_uri": "https://localhost:8080/"
    },
    "executionInfo": {
     "elapsed": 1108,
     "status": "ok",
     "timestamp": 1620907674995,
     "user": {
      "displayName": "abhi bandgar",
      "photoUrl": "",
      "userId": "00420871405872623314"
     },
     "user_tz": -330
    },
    "id": "weighted-interaction",
    "outputId": "ae533e74-b741-47f7-f03c-d09b0cfaf786"
   },
   "outputs": [
    {
     "name": "stdout",
     "output_type": "stream",
     "text": [
      "377\n"
     ]
    }
   ],
   "source": [
    "x = 4\n",
    "# y = 5x^3 + 4x^2 -3x + 5\n",
    "y = 5 * (x ** 3) + 4 * (x ** 2) - 3 * x + 5\n",
    "\n",
    "print(y)\n",
    "# y(4) = 377\n",
    "# y(5) = 715\n",
    "# y(6) = 1211\n",
    "# y(7) = 1895\n",
    "# y(8) = 2797\n"
   ]
  },
  {
   "cell_type": "code",
   "execution_count": null,
   "id": "demonstrated-syndicate",
   "metadata": {
    "id": "demonstrated-syndicate"
   },
   "outputs": [],
   "source": [
    "# User Inputs"
   ]
  },
  {
   "cell_type": "code",
   "execution_count": null,
   "id": "closing-hamilton",
   "metadata": {
    "colab": {
     "base_uri": "https://localhost:8080/"
    },
    "executionInfo": {
     "elapsed": 6612,
     "status": "ok",
     "timestamp": 1620907717016,
     "user": {
      "displayName": "abhi bandgar",
      "photoUrl": "",
      "userId": "00420871405872623314"
     },
     "user_tz": -330
    },
    "id": "closing-hamilton",
    "outputId": "68dac518-6b5b-49c0-e3b4-7b96280f2705"
   },
   "outputs": [
    {
     "name": "stdout",
     "output_type": "stream",
     "text": [
      "Enter the value of x10\n"
     ]
    }
   ],
   "source": [
    "x = int(input('Enter the value of x'))"
   ]
  },
  {
   "cell_type": "code",
   "execution_count": null,
   "id": "elect-tradition",
   "metadata": {
    "colab": {
     "base_uri": "https://localhost:8080/"
    },
    "executionInfo": {
     "elapsed": 12679,
     "status": "ok",
     "timestamp": 1620907728559,
     "user": {
      "displayName": "abhi bandgar",
      "photoUrl": "",
      "userId": "00420871405872623314"
     },
     "user_tz": -330
    },
    "id": "elect-tradition",
    "outputId": "aa704c08-480b-491f-94db-f9f5fc19166f"
   },
   "outputs": [
    {
     "name": "stdout",
     "output_type": "stream",
     "text": [
      "Enter the value of x 4\n",
      "Value of y(4) is 377\n",
      "Value of y(4) is 377\n"
     ]
    }
   ],
   "source": [
    "x = int(input('Enter the value of x '))\n",
    "\n",
    "y = 5 * (x ** 3) + 4 * (x ** 2) - 3 * x + 5\n",
    "\n",
    "print(f'Value of y({x}) is {y}') # f-string\n",
    "print('Value of y({}) is {}'.format(x,y))"
   ]
  },
  {
   "cell_type": "raw",
   "id": "sorted-employer",
   "metadata": {
    "id": "sorted-employer"
   },
   "source": [
    "x = 5,6,7,8\n",
    "y = 3x^4 -4x^3 + 5 x^(1/2) -3"
   ]
  },
  {
   "cell_type": "code",
   "execution_count": 17,
   "id": "modified-floating",
   "metadata": {
    "colab": {
     "base_uri": "https://localhost:8080/"
    },
    "executionInfo": {
     "elapsed": 5660,
     "status": "ok",
     "timestamp": 1620907754355,
     "user": {
      "displayName": "abhi bandgar",
      "photoUrl": "",
      "userId": "00420871405872623314"
     },
     "user_tz": -330
    },
    "id": "modified-floating",
    "outputId": "bc7b701b-6aee-4fda-8857-6a9d38f07e88"
   },
   "outputs": [
    {
     "name": "stdout",
     "output_type": "stream",
     "text": [
      "Enter the value of x 3\n",
      "Value of y3 is 140.6602540378444\n",
      "Value of y=3 is 140.6602540378444\n"
     ]
    }
   ],
   "source": [
    "x = int(input('Enter the value of x '))\n",
    "\n",
    "y = 3 * (x ** 4) - 4 * (x ** 3) + 5 * (x **(1/2)) - 3\n",
    "\n",
    "print(f'Value of y{x} is {y}')              \n",
    "print('Value of y={} is {}'.format(x,y))  "
   ]
  },
  {
   "cell_type": "code",
   "execution_count": 15,
   "id": "annual-stockholm",
   "metadata": {
    "colab": {
     "base_uri": "https://localhost:8080/"
    },
    "executionInfo": {
     "elapsed": 8204,
     "status": "ok",
     "timestamp": 1621241478867,
     "user": {
      "displayName": "abhi bandgar",
      "photoUrl": "",
      "userId": "00420871405872623314"
     },
     "user_tz": -330
    },
    "id": "annual-stockholm",
    "outputId": "8da7d7b9-0780-4b95-8718-8edf395c78b8"
   },
   "outputs": [
    {
     "name": "stdout",
     "output_type": "stream",
     "text": [
      "Enter the value of x 2\n",
      "Value of y2 is 20.071067811865476\n",
      "Value of y(2) is 20.071067811865476\n"
     ]
    }
   ],
   "source": [
    "x = int(input('Enter the value of x '))\n",
    " \n",
    "y = 3 * (x ** 4) - 4 * (x ** 3) + 5 * (x **(1/2)) - 3\n",
    " \n",
    "print(f'Value of y{x} is {y}')              \n",
    "print('Value of y({}) is {}'.format(x,y))"
   ]
  },
  {
   "cell_type": "code",
   "execution_count": null,
   "id": "through-lesson",
   "metadata": {
    "colab": {
     "base_uri": "https://localhost:8080/"
    },
    "executionInfo": {
     "elapsed": 7492,
     "status": "ok",
     "timestamp": 1620907793022,
     "user": {
      "displayName": "abhi bandgar",
      "photoUrl": "",
      "userId": "00420871405872623314"
     },
     "user_tz": -330
    },
    "id": "through-lesson",
    "outputId": "5de5b7ef-9671-4e8c-add3-8bc291f04e35"
   },
   "outputs": [
    {
     "name": "stdout",
     "output_type": "stream",
     "text": [
      "Enter the value of x 5\n",
      "Value of y5 is 1383.180339887499\n",
      "Value of y(5) is 1383.180339887499\n"
     ]
    }
   ],
   "source": [
    "x = int(input('Enter the value of x '))\n",
    "\n",
    "y = 3 * (x ** 4) - 4 * (x ** 3) + 5 * (x **(1/2)) - 3\n",
    "\n",
    "print(f'Value of y{x} is {y}')              \n",
    "print('Value of y({}) is {}'.format(x,y))  "
   ]
  },
  {
   "cell_type": "code",
   "execution_count": null,
   "id": "patient-meter",
   "metadata": {
    "colab": {
     "base_uri": "https://localhost:8080/"
    },
    "executionInfo": {
     "elapsed": 7073,
     "status": "ok",
     "timestamp": 1620907798734,
     "user": {
      "displayName": "abhi bandgar",
      "photoUrl": "",
      "userId": "00420871405872623314"
     },
     "user_tz": -330
    },
    "id": "patient-meter",
    "outputId": "e3dee9dd-e29f-4403-85d2-2bd39d6d93d4"
   },
   "outputs": [
    {
     "name": "stdout",
     "output_type": "stream",
     "text": [
      "Enter the value of x 2\n"
     ]
    }
   ],
   "source": [
    "x = input('Enter the value of x ')"
   ]
  },
  {
   "cell_type": "code",
   "execution_count": null,
   "id": "present-martin",
   "metadata": {
    "colab": {
     "base_uri": "https://localhost:8080/"
    },
    "executionInfo": {
     "elapsed": 1195,
     "status": "ok",
     "timestamp": 1620907799166,
     "user": {
      "displayName": "abhi bandgar",
      "photoUrl": "",
      "userId": "00420871405872623314"
     },
     "user_tz": -330
    },
    "id": "present-martin",
    "outputId": "cd8aff20-2ea5-4055-bac2-56ee43f6b47a"
   },
   "outputs": [
    {
     "name": "stdout",
     "output_type": "stream",
     "text": [
      "2 <class 'str'>\n"
     ]
    }
   ],
   "source": [
    "print(x, type(x))"
   ]
  },
  {
   "cell_type": "code",
   "execution_count": null,
   "id": "extensive-seeking",
   "metadata": {
    "colab": {
     "base_uri": "https://localhost:8080/"
    },
    "executionInfo": {
     "elapsed": 1069,
     "status": "ok",
     "timestamp": 1620907802734,
     "user": {
      "displayName": "abhi bandgar",
      "photoUrl": "",
      "userId": "00420871405872623314"
     },
     "user_tz": -330
    },
    "id": "extensive-seeking",
    "outputId": "01461723-88b1-4ab8-99f7-242f5253e4a2"
   },
   "outputs": [
    {
     "name": "stdout",
     "output_type": "stream",
     "text": [
      "2 <class 'int'>\n"
     ]
    }
   ],
   "source": [
    "y = int(x)\n",
    "print(y, type(y))"
   ]
  },
  {
   "cell_type": "code",
   "execution_count": null,
   "id": "statistical-taxation",
   "metadata": {
    "colab": {
     "base_uri": "https://localhost:8080/"
    },
    "executionInfo": {
     "elapsed": 8303,
     "status": "ok",
     "timestamp": 1620907813010,
     "user": {
      "displayName": "abhi bandgar",
      "photoUrl": "",
      "userId": "00420871405872623314"
     },
     "user_tz": -330
    },
    "id": "statistical-taxation",
    "outputId": "c5be99fc-3f9e-4da6-a0cc-47139d002386"
   },
   "outputs": [
    {
     "name": "stdout",
     "output_type": "stream",
     "text": [
      "12\n"
     ]
    }
   ],
   "source": [
    "a = int(input())"
   ]
  },
  {
   "cell_type": "code",
   "execution_count": null,
   "id": "billion-senator",
   "metadata": {
    "colab": {
     "base_uri": "https://localhost:8080/"
    },
    "executionInfo": {
     "elapsed": 1185,
     "status": "ok",
     "timestamp": 1620907813415,
     "user": {
      "displayName": "abhi bandgar",
      "photoUrl": "",
      "userId": "00420871405872623314"
     },
     "user_tz": -330
    },
    "id": "billion-senator",
    "outputId": "f357d768-50f4-46e8-b1dc-2b8bc0087e31"
   },
   "outputs": [
    {
     "data": {
      "text/plain": [
       "12"
      ]
     },
     "execution_count": 36,
     "metadata": {
      "tags": []
     },
     "output_type": "execute_result"
    }
   ],
   "source": [
    "a"
   ]
  },
  {
   "cell_type": "code",
   "execution_count": null,
   "id": "H8vB64HjhXHn",
   "metadata": {
    "id": "H8vB64HjhXHn"
   },
   "outputs": [],
   "source": []
  },
  {
   "cell_type": "code",
   "execution_count": null,
   "id": "niQvxQZWhXnR",
   "metadata": {
    "id": "niQvxQZWhXnR"
   },
   "outputs": [],
   "source": []
  },
  {
   "cell_type": "code",
   "execution_count": null,
   "id": "H4jSh2r6omUT",
   "metadata": {
    "id": "H4jSh2r6omUT"
   },
   "outputs": [],
   "source": []
  }
 ],
 "metadata": {
  "colab": {
   "name": "Math Operatons.ipynb",
   "provenance": []
  },
  "kernelspec": {
   "display_name": "Python 3",
   "language": "python",
   "name": "python3"
  },
  "language_info": {
   "codemirror_mode": {
    "name": "ipython",
    "version": 3
   },
   "file_extension": ".py",
   "mimetype": "text/x-python",
   "name": "python",
   "nbconvert_exporter": "python",
   "pygments_lexer": "ipython3",
   "version": "3.7.9"
  }
 },
 "nbformat": 4,
 "nbformat_minor": 5
}
