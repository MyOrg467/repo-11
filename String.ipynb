{
 "cells": [
  {
   "cell_type": "code",
   "execution_count": 1,
   "id": "marine-coordinate",
   "metadata": {
    "colab": {
     "base_uri": "https://localhost:8080/"
    },
    "executionInfo": {
     "elapsed": 1420,
     "status": "ok",
     "timestamp": 1621241671151,
     "user": {
      "displayName": "abhi bandgar",
      "photoUrl": "",
      "userId": "00420871405872623314"
     },
     "user_tz": -330
    },
    "id": "marine-coordinate",
    "outputId": "3462f170-8416-49d1-ff32-e84a641f5aa7"
   },
   "outputs": [
    {
     "data": {
      "text/plain": [
       "str"
      ]
     },
     "execution_count": 1,
     "metadata": {
      "tags": []
     },
     "output_type": "execute_result"
    }
   ],
   "source": [
    "str1 = 'Python Class'\n",
    "type(str1)"
   ]
  },
  {
   "cell_type": "code",
   "execution_count": 3,
   "id": "becoming-rolling",
   "metadata": {
    "colab": {
     "base_uri": "https://localhost:8080/"
    },
    "executionInfo": {
     "elapsed": 1544,
     "status": "ok",
     "timestamp": 1621241678956,
     "user": {
      "displayName": "abhi bandgar",
      "photoUrl": "",
      "userId": "00420871405872623314"
     },
     "user_tz": -330
    },
    "id": "becoming-rolling",
    "outputId": "1b94f3d7-c7ad-4694-837b-7093abeb37e9"
   },
   "outputs": [
    {
     "data": {
      "text/plain": [
       "str"
      ]
     },
     "execution_count": 3,
     "metadata": {
      "tags": []
     },
     "output_type": "execute_result"
    }
   ],
   "source": [
    "str2 = \"Python Class\"\n",
    "type(str2)"
   ]
  },
  {
   "cell_type": "code",
   "execution_count": 4,
   "id": "challenging-mechanics",
   "metadata": {
    "colab": {
     "base_uri": "https://localhost:8080/",
     "height": 35
    },
    "executionInfo": {
     "elapsed": 1491,
     "status": "ok",
     "timestamp": 1621241683121,
     "user": {
      "displayName": "abhi bandgar",
      "photoUrl": "",
      "userId": "00420871405872623314"
     },
     "user_tz": -330
    },
    "id": "challenging-mechanics",
    "outputId": "429189d4-2571-45db-fb56-4eceadb04f54"
   },
   "outputs": [
    {
     "data": {
      "application/vnd.google.colaboratory.intrinsic+json": {
       "type": "string"
      },
      "text/plain": [
       "\"Python's class\""
      ]
     },
     "execution_count": 4,
     "metadata": {
      "tags": []
     },
     "output_type": "execute_result"
    }
   ],
   "source": [
    "str3 = \"Python's class\"\n",
    "str3"
   ]
  },
  {
   "cell_type": "code",
   "execution_count": 5,
   "id": "delayed-appendix",
   "metadata": {
    "colab": {
     "base_uri": "https://localhost:8080/",
     "height": 35
    },
    "executionInfo": {
     "elapsed": 1421,
     "status": "ok",
     "timestamp": 1621241687920,
     "user": {
      "displayName": "abhi bandgar",
      "photoUrl": "",
      "userId": "00420871405872623314"
     },
     "user_tz": -330
    },
    "id": "delayed-appendix",
    "outputId": "400c1cd2-eb9b-4fc3-ec21-de3d225bfa2d"
   },
   "outputs": [
    {
     "data": {
      "application/vnd.google.colaboratory.intrinsic+json": {
       "type": "string"
      },
      "text/plain": [
       "'Python\"s Class'"
      ]
     },
     "execution_count": 5,
     "metadata": {
      "tags": []
     },
     "output_type": "execute_result"
    }
   ],
   "source": [
    "str4 = 'Python\"s Class'\n",
    "str4"
   ]
  },
  {
   "cell_type": "code",
   "execution_count": 1,
   "id": "meaning-ozone",
   "metadata": {
    "colab": {
     "base_uri": "https://localhost:8080/"
    },
    "executionInfo": {
     "elapsed": 1255,
     "status": "ok",
     "timestamp": 1621241716709,
     "user": {
      "displayName": "abhi bandgar",
      "photoUrl": "",
      "userId": "00420871405872623314"
     },
     "user_tz": -330
    },
    "id": "meaning-ozone",
    "outputId": "69ce6f03-52fc-4a5d-d954-c2be531cc0c6"
   },
   "outputs": [
    {
     "data": {
      "text/plain": [
       "16"
      ]
     },
     "execution_count": 1,
     "metadata": {},
     "output_type": "execute_result"
    }
   ],
   "source": [
    "a = 'Data Science 123'\n",
    "len(a)"
   ]
  },
  {
   "cell_type": "code",
   "execution_count": 7,
   "id": "italic-designation",
   "metadata": {
    "colab": {
     "base_uri": "https://localhost:8080/",
     "height": 35
    },
    "executionInfo": {
     "elapsed": 1381,
     "status": "ok",
     "timestamp": 1621241720557,
     "user": {
      "displayName": "abhi bandgar",
      "photoUrl": "",
      "userId": "00420871405872623314"
     },
     "user_tz": -330
    },
    "id": "italic-designation",
    "outputId": "324db7d6-807b-4458-8691-b10a31c235ad"
   },
   "outputs": [
    {
     "data": {
      "application/vnd.google.colaboratory.intrinsic+json": {
       "type": "string"
      },
      "text/plain": [
       "'DATA SCIENCE 123'"
      ]
     },
     "execution_count": 7,
     "metadata": {
      "tags": []
     },
     "output_type": "execute_result"
    }
   ],
   "source": [
    "a.upper()"
   ]
  },
  {
   "cell_type": "code",
   "execution_count": 8,
   "id": "black-pendant",
   "metadata": {
    "colab": {
     "base_uri": "https://localhost:8080/",
     "height": 35
    },
    "executionInfo": {
     "elapsed": 834,
     "status": "ok",
     "timestamp": 1621241723993,
     "user": {
      "displayName": "abhi bandgar",
      "photoUrl": "",
      "userId": "00420871405872623314"
     },
     "user_tz": -330
    },
    "id": "black-pendant",
    "outputId": "6dfc9f20-88ef-4a96-f5a5-a9d36852f813"
   },
   "outputs": [
    {
     "data": {
      "application/vnd.google.colaboratory.intrinsic+json": {
       "type": "string"
      },
      "text/plain": [
       "'data science 123'"
      ]
     },
     "execution_count": 8,
     "metadata": {
      "tags": []
     },
     "output_type": "execute_result"
    }
   ],
   "source": [
    "a.lower()"
   ]
  },
  {
   "cell_type": "code",
   "execution_count": 9,
   "id": "combined-screen",
   "metadata": {
    "colab": {
     "base_uri": "https://localhost:8080/",
     "height": 35
    },
    "executionInfo": {
     "elapsed": 961,
     "status": "ok",
     "timestamp": 1621241726031,
     "user": {
      "displayName": "abhi bandgar",
      "photoUrl": "",
      "userId": "00420871405872623314"
     },
     "user_tz": -330
    },
    "id": "combined-screen",
    "outputId": "f16e6394-586a-4c10-c4f7-f42b62ba76b5"
   },
   "outputs": [
    {
     "data": {
      "application/vnd.google.colaboratory.intrinsic+json": {
       "type": "string"
      },
      "text/plain": [
       "'Python And Data Science'"
      ]
     },
     "execution_count": 9,
     "metadata": {
      "tags": []
     },
     "output_type": "execute_result"
    }
   ],
   "source": [
    "a = 'Python and Data science'\n",
    "a.title()"
   ]
  }
 ],
 "metadata": {
  "colab": {
   "name": "String.ipynb",
   "provenance": []
  },
  "kernelspec": {
   "display_name": "Python 3",
   "language": "python",
   "name": "python3"
  },
  "language_info": {
   "codemirror_mode": {
    "name": "ipython",
    "version": 3
   },
   "file_extension": ".py",
   "mimetype": "text/x-python",
   "name": "python",
   "nbconvert_exporter": "python",
   "pygments_lexer": "ipython3",
   "version": "3.7.9"
  }
 },
 "nbformat": 4,
 "nbformat_minor": 5
}
