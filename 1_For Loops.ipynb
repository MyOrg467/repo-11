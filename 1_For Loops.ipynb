{
 "cells": [
  {
   "cell_type": "markdown",
   "id": "peripheral-ceramic",
   "metadata": {},
   "source": [
    "# Loops in Python"
   ]
  },
  {
   "cell_type": "raw",
   "id": "important-imaging",
   "metadata": {},
   "source": [
    "1. For Loop\n",
    "2. While Loop\n",
    "\n",
    "same basic functionality\n",
    "different syntax and different condition checking time"
   ]
  },
  {
   "cell_type": "markdown",
   "id": "united-candidate",
   "metadata": {},
   "source": [
    "# 1. For Loop"
   ]
  },
  {
   "cell_type": "raw",
   "id": "pregnant-charm",
   "metadata": {},
   "source": [
    "It works like an iterator\n",
    "Execute a set statements"
   ]
  },
  {
   "cell_type": "code",
   "execution_count": 1,
   "id": "neural-privilege",
   "metadata": {},
   "outputs": [
    {
     "name": "stdout",
     "output_type": "stream",
     "text": [
      "hello\n",
      "hello\n",
      "hello\n",
      "hello\n",
      "hello\n"
     ]
    }
   ],
   "source": [
    "print('hello')\n",
    "print('hello')\n",
    "print('hello')\n",
    "print('hello')\n",
    "print('hello')"
   ]
  },
  {
   "cell_type": "code",
   "execution_count": 6,
   "id": "blocked-crawford",
   "metadata": {},
   "outputs": [
    {
     "name": "stdout",
     "output_type": "stream",
     "text": [
      "hello\n",
      "hello\n",
      "hello\n",
      "hello\n",
      "hello\n"
     ]
    }
   ],
   "source": [
    "for i in range(5):\n",
    "    print('hello')"
   ]
  },
  {
   "cell_type": "raw",
   "id": "impossible-replica",
   "metadata": {},
   "source": [
    "list,tuple,string, dictionary,set"
   ]
  },
  {
   "cell_type": "code",
   "execution_count": null,
   "id": "olive-counter",
   "metadata": {},
   "outputs": [],
   "source": [
    "Dict"
   ]
  },
  {
   "cell_type": "code",
   "execution_count": 16,
   "id": "floral-experience",
   "metadata": {},
   "outputs": [
    {
     "name": "stdout",
     "output_type": "stream",
     "text": [
      "a 100\n",
      "b 200\n"
     ]
    }
   ],
   "source": [
    "d1 = {'a':100,'b':200}\n",
    "for key,value in d1.items():\n",
    "    print(key,value)"
   ]
  },
  {
   "cell_type": "code",
   "execution_count": 20,
   "id": "attractive-virus",
   "metadata": {},
   "outputs": [
    {
     "name": "stdout",
     "output_type": "stream",
     "text": [
      "2\n",
      "3\n",
      "4\n"
     ]
    }
   ],
   "source": [
    "for i in range(2,5):\n",
    "    print(i) "
   ]
  },
  {
   "cell_type": "code",
   "execution_count": 21,
   "id": "genuine-anxiety",
   "metadata": {},
   "outputs": [
    {
     "name": "stdout",
     "output_type": "stream",
     "text": [
      "python\n",
      "2\n",
      "3.5\n",
      "3\n",
      "4\n",
      "5\n",
      "6\n",
      "7\n"
     ]
    }
   ],
   "source": [
    "t1 = ('python',2,3.5,3,4,5,6,7)\n",
    "for value in t1:\n",
    "    print(value)"
   ]
  },
  {
   "cell_type": "code",
   "execution_count": 23,
   "id": "going-start",
   "metadata": {},
   "outputs": [
    {
     "name": "stdout",
     "output_type": "stream",
     "text": [
      "5\n",
      "3\n",
      "4\n",
      "5\n",
      "6\n",
      "7\n"
     ]
    }
   ],
   "source": [
    "l1 = [5,3,4,5,6,7]\n",
    "for val in l1:\n",
    "    print(val)"
   ]
  },
  {
   "cell_type": "code",
   "execution_count": 3,
   "id": "patient-reception",
   "metadata": {},
   "outputs": [
    {
     "name": "stdout",
     "output_type": "stream",
     "text": [
      "addition is  30\n"
     ]
    }
   ],
   "source": [
    "l1 = [5,3,4,5,6,7]\n",
    "\n",
    "sum1 = 0\n",
    "for val in l1:\n",
    " #   print(val)\n",
    "    sum1 = sum1+val\n",
    "    \n",
    "print('addition is ',sum1)"
   ]
  },
  {
   "cell_type": "code",
   "execution_count": 31,
   "id": "fossil-toronto",
   "metadata": {},
   "outputs": [
    {
     "name": "stdout",
     "output_type": "stream",
     "text": [
      "addition is  35\n"
     ]
    }
   ],
   "source": [
    "str1 = '2345678'\n",
    "sum1 = 0\n",
    "for i in str1:\n",
    "    sum1 = sum1 + int(i)\n",
    "print('addition is ',sum1)"
   ]
  },
  {
   "cell_type": "markdown",
   "id": "third-costs",
   "metadata": {},
   "source": [
    "# Break and continue statement"
   ]
  },
  {
   "cell_type": "markdown",
   "id": "taken-budapest",
   "metadata": {},
   "source": [
    "## 1. break: "
   ]
  },
  {
   "cell_type": "raw",
   "id": "coated-international",
   "metadata": {},
   "source": [
    "To exit the loop\n",
    "Stop all further iterations"
   ]
  },
  {
   "cell_type": "code",
   "execution_count": 41,
   "id": "abroad-garbage",
   "metadata": {},
   "outputs": [
    {
     "name": "stdout",
     "output_type": "stream",
     "text": [
      "5\n",
      "3\n",
      "4\n",
      "current iteration value is 4\n",
      "5\n",
      "6\n",
      "7\n"
     ]
    }
   ],
   "source": [
    "l1 = [5,3,4,5,6,7]\n",
    "\n",
    "for val in l1:\n",
    "    print(val)\n",
    "    if val == 4:\n",
    "        print('current iteration value is 4')\n",
    "    "
   ]
  },
  {
   "cell_type": "code",
   "execution_count": 54,
   "id": "chinese-planet",
   "metadata": {},
   "outputs": [
    {
     "name": "stdout",
     "output_type": "stream",
     "text": [
      "\n",
      "Value at index 0 in 5\n",
      "Data Type is int\n",
      "\n",
      "Value at index 1 in 3\n",
      "Data Type is int\n",
      "\n",
      "Value at index 2 in 4\n",
      "Data Type is int\n",
      "\n",
      "Value at index 3 in string\n"
     ]
    }
   ],
   "source": [
    "l1 = [5,3,4,'string',6,7]\n",
    "\n",
    "for i,val in enumerate(l1):\n",
    "    print()\n",
    "    print(f'Value at index {i} in {val}')\n",
    "    \n",
    "    if type(val) == str: # True  \n",
    "        break\n",
    "        print('Data Type is str')\n",
    "        print('SSSSSSSSSSSSSSSSSSS')\n",
    "        \n",
    "    elif type(val) == int:\n",
    "        print('Data Type is int')"
   ]
  },
  {
   "cell_type": "code",
   "execution_count": 55,
   "id": "indian-virginia",
   "metadata": {},
   "outputs": [
    {
     "name": "stdout",
     "output_type": "stream",
     "text": [
      "\n",
      "Value at index in 5\n",
      "Data Type is int\n",
      "\n",
      "Value at index in 3\n",
      "Data Type is int\n",
      "\n",
      "Value at index in 4\n",
      "Data Type is int\n",
      "\n",
      "Value at index in string\n",
      "Data Type is str\n"
     ]
    }
   ],
   "source": [
    "l1 = [5,3,4,'string',6,7]\n",
    "\n",
    "for val in l1:\n",
    "    print()\n",
    "    print(f'Value at index in {val}')\n",
    "    \n",
    "    if type(val) == str: # True\n",
    "        print('Data Type is str')\n",
    "        break\n",
    "        print('SSSSSSSSSSSSSSSSSSS')\n",
    "        \n",
    "    elif type(val) == int:\n",
    "        print('Data Type is int')"
   ]
  },
  {
   "cell_type": "code",
   "execution_count": 6,
   "id": "manual-volume",
   "metadata": {},
   "outputs": [
    {
     "name": "stdout",
     "output_type": "stream",
     "text": [
      "\n",
      "Value at index 0 is 5\n",
      "\n",
      "Value at index 1 is 3\n",
      "\n",
      "Value at index 2 is 4\n",
      "\n",
      "Value at index 3 is string\n",
      "\n",
      "Value at index 4 is 6\n",
      "\n",
      "Value at index 5 is 7\n"
     ]
    }
   ],
   "source": [
    "l1 = [5,3,4,'string',6,7]\n",
    "\n",
    "for i,val in enumerate(l1):\n",
    "    print()\n",
    "    print(f'Value at index {i} is {val}')\n",
    "#    break"
   ]
  },
  {
   "cell_type": "markdown",
   "id": "leading-tsunami",
   "metadata": {},
   "source": [
    "## 2. Continue Statement"
   ]
  },
  {
   "cell_type": "code",
   "execution_count": null,
   "id": "raised-british",
   "metadata": {},
   "outputs": [],
   "source": [
    "To stop current iteration of loop, continue with next iteration"
   ]
  },
  {
   "cell_type": "code",
   "execution_count": 79,
   "id": "retained-tomorrow",
   "metadata": {},
   "outputs": [
    {
     "name": "stdout",
     "output_type": "stream",
     "text": [
      "\n",
      "Value at index in 5\n",
      "Data Type is int\n",
      "\n",
      "Value at index in 3\n",
      "Data Type is int\n",
      "\n",
      "Value at index in 4\n",
      "Data Type is int\n",
      "\n",
      "Value at index in string\n",
      "STRING DATA\n",
      "Data Type is str\n",
      "\n",
      "Value at index in 6\n",
      "Data Type is int\n",
      "\n",
      "Value at index in 7\n",
      "Data Type is int\n"
     ]
    }
   ],
   "source": [
    "l1 = [5,3,4,'string',6,7]\n",
    "\n",
    "for val in l1:\n",
    "    print()\n",
    "    print(f'Value at index in {val}')\n",
    "    \n",
    "    if type(val) == str: \n",
    "        \n",
    "        print('STRING DATA') \n",
    "        print('Data Type is str')\n",
    "        continue\n",
    "        print('SSSSSSSSSSSSSSSSSSS')\n",
    "        \n",
    "        \n",
    "    elif type(val) == int:\n",
    "        print('Data Type is int')"
   ]
  },
  {
   "cell_type": "code",
   "execution_count": 80,
   "id": "trained-foundation",
   "metadata": {},
   "outputs": [
    {
     "name": "stdout",
     "output_type": "stream",
     "text": [
      "\n",
      "Value at index in 5\n",
      "Data Type is int\n",
      "\n",
      "Value at index in 3\n",
      "Data Type is int\n",
      "\n",
      "Value at index in 4\n",
      "Data Type is int\n",
      "\n",
      "Value at index in string\n",
      "\n",
      "Value at index in 6\n",
      "Data Type is int\n",
      "\n",
      "Value at index in 7\n",
      "Data Type is int\n",
      "\n",
      "Value at index in 8.5\n",
      "Data Type is int\n",
      "33.5\n"
     ]
    }
   ],
   "source": [
    "l1 = [5,3,4,'string',6,7,8.5]\n",
    "\n",
    "sum1 = 0\n",
    "for val in l1:\n",
    "    print()\n",
    "    print(f'Value at index in {val}')\n",
    "    if type(val) == str: \n",
    "        continue\n",
    "     \n",
    "    elif type(val) == int or type(val) == float:\n",
    "        sum1 = sum1 + val\n",
    "        print('Data Type is int')\n",
    "print(sum1)"
   ]
  },
  {
   "cell_type": "markdown",
   "id": "satellite-excuse",
   "metadata": {},
   "source": [
    "# For - Else "
   ]
  },
  {
   "cell_type": "raw",
   "id": "favorite-acting",
   "metadata": {},
   "source": [
    "if - else\n",
    "if - elif\n",
    "if - elif - else"
   ]
  },
  {
   "cell_type": "raw",
   "id": "through-benjamin",
   "metadata": {},
   "source": [
    "for - else\n",
    "Else Excecutes when the loop is finished"
   ]
  },
  {
   "cell_type": "code",
   "execution_count": 9,
   "id": "cellular-ballot",
   "metadata": {},
   "outputs": [
    {
     "name": "stdout",
     "output_type": "stream",
     "text": [
      "0\n",
      "1\n",
      "2\n"
     ]
    }
   ],
   "source": [
    "for i in range(4): # iterations == 2\n",
    "    print(i)\n",
    "    if i == 2:\n",
    "        break\n",
    "    \n",
    "else:\n",
    "    print('Loop Finished')"
   ]
  },
  {
   "cell_type": "code",
   "execution_count": 7,
   "id": "incorporated-video",
   "metadata": {},
   "outputs": [
    {
     "name": "stdout",
     "output_type": "stream",
     "text": [
      "3\n",
      "4\n",
      "5\n",
      "6\n",
      "7\n",
      "Finally Finished\n"
     ]
    }
   ],
   "source": [
    "for i in [3,4,5,6,7]: # iterations == 5 \n",
    "    print(i)\n",
    "    if i == 4:\n",
    "        continue\n",
    "        print('value is 4')\n",
    "        \n",
    "        \n",
    "    elif i == 6:\n",
    "        continue\n",
    "        print('value is 6')\n",
    "    \n",
    "else:\n",
    "    print('Finally Finished')"
   ]
  },
  {
   "cell_type": "code",
   "execution_count": 12,
   "id": "portuguese-buddy",
   "metadata": {},
   "outputs": [
    {
     "name": "stdout",
     "output_type": "stream",
     "text": [
      "3\n",
      "4\n",
      "value is 4\n",
      "5\n",
      "6\n",
      "7\n",
      "Finally Finished\n",
      "For loop Executed\n"
     ]
    }
   ],
   "source": [
    "for i in [3,4,5,6,7]: # iterations == 5 \n",
    "    print(i)\n",
    "    if i == 4:\n",
    "#        break\n",
    "        print('value is 4')\n",
    "        \n",
    "    elif i == 6:\n",
    "        continue\n",
    "        print('value is 6')\n",
    "\n",
    "else:\n",
    "    print('Finally Finished')\n",
    "    \n",
    "print('For loop Executed')\n",
    "   \n"
   ]
  },
  {
   "cell_type": "markdown",
   "id": "featured-effort",
   "metadata": {},
   "source": [
    "# factorial of number "
   ]
  },
  {
   "cell_type": "code",
   "execution_count": 108,
   "id": "athletic-chuck",
   "metadata": {},
   "outputs": [
    {
     "name": "stdout",
     "output_type": "stream",
     "text": [
      "1\n",
      "2\n",
      "6\n",
      "24\n",
      "120\n",
      "720\n"
     ]
    },
    {
     "data": {
      "text/plain": [
       "720"
      ]
     },
     "execution_count": 108,
     "metadata": {},
     "output_type": "execute_result"
    }
   ],
   "source": [
    "num = 6\n",
    "fact = 1\n",
    "for n in range(1,num+1): # 1 to 6 \n",
    "    fact = fact * n\n",
    "    print(f'{fact}')\n",
    "    \n",
    "fact"
   ]
  },
  {
   "cell_type": "code",
   "execution_count": 110,
   "id": "convenient-courtesy",
   "metadata": {},
   "outputs": [
    {
     "name": "stdout",
     "output_type": "stream",
     "text": [
      "1\n",
      "2\n",
      "6\n",
      "24\n",
      "120\n",
      "720\n"
     ]
    },
    {
     "data": {
      "text/plain": [
       "720"
      ]
     },
     "execution_count": 110,
     "metadata": {},
     "output_type": "execute_result"
    }
   ],
   "source": [
    "# Q1 : factorial\n",
    "\n",
    "num = 6\n",
    "fact = 1\n",
    "for n in range(1,num+1): # 1 to 6 \n",
    "    fact = fact * n\n",
    "    print(f'{fact}')\n",
    "fact"
   ]
  }
 ],
 "metadata": {
  "kernelspec": {
   "display_name": "Python 3",
   "language": "python",
   "name": "python3"
  },
  "language_info": {
   "codemirror_mode": {
    "name": "ipython",
    "version": 3
   },
   "file_extension": ".py",
   "mimetype": "text/x-python",
   "name": "python",
   "nbconvert_exporter": "python",
   "pygments_lexer": "ipython3",
   "version": "3.7.9"
  }
 },
 "nbformat": 4,
 "nbformat_minor": 5
}
