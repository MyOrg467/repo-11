{
 "cells": [
  {
   "cell_type": "code",
   "execution_count": 3,
   "id": "sticky-lobby",
   "metadata": {},
   "outputs": [],
   "source": [
    "import datetime"
   ]
  },
  {
   "cell_type": "code",
   "execution_count": null,
   "id": "stretch-maple",
   "metadata": {},
   "outputs": [],
   "source": [
    "Time Complexity\n",
    "To find current date, month, year, etc\n",
    "Convert any date to the std date format"
   ]
  },
  {
   "cell_type": "code",
   "execution_count": null,
   "id": "premier-cleanup",
   "metadata": {},
   "outputs": [],
   "source": [
    "# Loan Prediction Data\n",
    "reported Date >> 09-06-2021\n",
    "Issued Date >> 09 June 2021\n",
    "Login Date >> 2021 Jun 09\n",
    "SactionedAmount Date >> 2021/06/09\n",
    "\n",
    "Std Format >> '2021-06-09'\n",
    "Single Date Format"
   ]
  },
  {
   "cell_type": "markdown",
   "id": "personalized-thunder",
   "metadata": {},
   "source": [
    "# Time Complexity"
   ]
  },
  {
   "cell_type": "raw",
   "id": "patent-mainstream",
   "metadata": {},
   "source": [
    "time_complexity = end_time - start_time\n",
    "\n",
    "1623247161.0218613\n",
    "1623247241.8812912"
   ]
  },
  {
   "cell_type": "code",
   "execution_count": 28,
   "id": "divided-cheese",
   "metadata": {},
   "outputs": [
    {
     "name": "stdout",
     "output_type": "stream",
     "text": [
      "2.591735363006592\n"
     ]
    }
   ],
   "source": [
    "import time\n",
    "\n",
    "start_time = time.time()\n",
    "\n",
    "def print_for_loop():\n",
    "    for i in range(100000000):\n",
    "        pass\n",
    "\n",
    "print_for_loop()\n",
    "\n",
    "time_complexity = time.time() - start_time\n",
    "\n",
    "print(time_complexity)"
   ]
  },
  {
   "cell_type": "code",
   "execution_count": null,
   "id": "ready-irish",
   "metadata": {},
   "outputs": [],
   "source": []
  },
  {
   "cell_type": "markdown",
   "id": "worse-slovak",
   "metadata": {},
   "source": [
    "# Current Date and Time"
   ]
  },
  {
   "cell_type": "code",
   "execution_count": 46,
   "id": "baking-punishment",
   "metadata": {},
   "outputs": [],
   "source": [
    "import datetime"
   ]
  },
  {
   "cell_type": "code",
   "execution_count": 47,
   "id": "eligible-cardiff",
   "metadata": {},
   "outputs": [],
   "source": [
    "# from datetime import datetime"
   ]
  },
  {
   "cell_type": "code",
   "execution_count": 49,
   "id": "pediatric-morning",
   "metadata": {},
   "outputs": [
    {
     "name": "stdout",
     "output_type": "stream",
     "text": [
      "2021-06-09 19:44:22.481506\n"
     ]
    }
   ],
   "source": [
    "current_time = datetime.datetime.now()\n",
    "\n",
    "print(current_time)"
   ]
  },
  {
   "cell_type": "code",
   "execution_count": 50,
   "id": "aware-arthur",
   "metadata": {},
   "outputs": [
    {
     "data": {
      "text/plain": [
       "2021"
      ]
     },
     "execution_count": 50,
     "metadata": {},
     "output_type": "execute_result"
    }
   ],
   "source": [
    "current_time.year"
   ]
  },
  {
   "cell_type": "code",
   "execution_count": 55,
   "id": "headed-pennsylvania",
   "metadata": {},
   "outputs": [
    {
     "data": {
      "text/plain": [
       "2021"
      ]
     },
     "execution_count": 55,
     "metadata": {},
     "output_type": "execute_result"
    }
   ],
   "source": [
    "current_time.month\n",
    "current_time.day\n",
    "current_time.hour\n",
    "current_time.second\n",
    "current_time.year"
   ]
  },
  {
   "cell_type": "markdown",
   "id": "pending-baptist",
   "metadata": {},
   "source": [
    "# Date"
   ]
  },
  {
   "cell_type": "code",
   "execution_count": 56,
   "id": "burning-pendant",
   "metadata": {},
   "outputs": [
    {
     "name": "stdout",
     "output_type": "stream",
     "text": [
      "2021-06-09\n"
     ]
    }
   ],
   "source": [
    "date = current_time.date()\n",
    "print(date)"
   ]
  },
  {
   "cell_type": "code",
   "execution_count": 58,
   "id": "consolidated-authority",
   "metadata": {},
   "outputs": [
    {
     "name": "stdout",
     "output_type": "stream",
     "text": [
      "2021-06-09\n"
     ]
    }
   ],
   "source": [
    "date = datetime.datetime.now().date()\n",
    "print(date)"
   ]
  },
  {
   "cell_type": "code",
   "execution_count": 61,
   "id": "seventh-stick",
   "metadata": {},
   "outputs": [
    {
     "name": "stdout",
     "output_type": "stream",
     "text": [
      "19:47:04.446621\n"
     ]
    }
   ],
   "source": [
    "time = datetime.datetime.now().time()\n",
    "print(time)"
   ]
  },
  {
   "cell_type": "code",
   "execution_count": 63,
   "id": "diagnostic-render",
   "metadata": {},
   "outputs": [
    {
     "name": "stdout",
     "output_type": "stream",
     "text": [
      "2021-06-09 19:48:00.198275\n"
     ]
    }
   ],
   "source": [
    "date_time = datetime.datetime.today()\n",
    "print(date_time)"
   ]
  },
  {
   "cell_type": "markdown",
   "id": "exact-jefferson",
   "metadata": {},
   "source": [
    "# Time Delta "
   ]
  },
  {
   "cell_type": "raw",
   "id": "vertical-services",
   "metadata": {},
   "source": [
    "To find new dates"
   ]
  },
  {
   "cell_type": "code",
   "execution_count": 68,
   "id": "thirty-ebony",
   "metadata": {},
   "outputs": [
    {
     "name": "stdout",
     "output_type": "stream",
     "text": [
      "2021-06-19 19:50:57.090724\n"
     ]
    }
   ],
   "source": [
    "current_date_time = datetime.datetime.today()\n",
    "\n",
    "new_date = current_date_time + datetime.timedelta(days = 10)\n",
    "print(new_date)"
   ]
  },
  {
   "cell_type": "code",
   "execution_count": 74,
   "id": "blessed-indiana",
   "metadata": {},
   "outputs": [
    {
     "name": "stdout",
     "output_type": "stream",
     "text": [
      "2021-06-14 19:52:15.272996\n"
     ]
    }
   ],
   "source": [
    "current_date_time = datetime.datetime.today()\n",
    "\n",
    "new_date = current_date_time + datetime.timedelta(days = 5)\n",
    "print(new_date)"
   ]
  },
  {
   "cell_type": "code",
   "execution_count": 75,
   "id": "american-terror",
   "metadata": {},
   "outputs": [
    {
     "name": "stdout",
     "output_type": "stream",
     "text": [
      "2021-06-14\n"
     ]
    }
   ],
   "source": [
    "current_date_time = datetime.datetime.today()\n",
    "\n",
    "new_date = current_date_time + datetime.timedelta(days = 5)\n",
    "print(new_date.date())"
   ]
  },
  {
   "cell_type": "code",
   "execution_count": 77,
   "id": "unknown-company",
   "metadata": {},
   "outputs": [
    {
     "name": "stdout",
     "output_type": "stream",
     "text": [
      "19:52:34.955216\n"
     ]
    }
   ],
   "source": [
    "current_date_time = datetime.datetime.today()\n",
    "\n",
    "new_date = current_date_time + datetime.timedelta(days = 5)\n",
    "print(new_date.time())"
   ]
  },
  {
   "cell_type": "code",
   "execution_count": 79,
   "id": "foster-visitor",
   "metadata": {},
   "outputs": [
    {
     "name": "stdout",
     "output_type": "stream",
     "text": [
      "19:52:51.897263\n"
     ]
    }
   ],
   "source": [
    "current_date_time = datetime.datetime.today()\n",
    "\n",
    "new_date = current_date_time + datetime.timedelta(days = 5)\n",
    "print(new_date.time())"
   ]
  },
  {
   "cell_type": "markdown",
   "id": "dutch-column",
   "metadata": {},
   "source": [
    "# Date after 5 week "
   ]
  },
  {
   "cell_type": "code",
   "execution_count": 82,
   "id": "matched-ideal",
   "metadata": {},
   "outputs": [
    {
     "name": "stdout",
     "output_type": "stream",
     "text": [
      "2021-07-14\n"
     ]
    }
   ],
   "source": [
    "current_date_time = datetime.datetime.today()\n",
    "\n",
    "new_date = current_date_time + datetime.timedelta(weeks = 5)\n",
    "print(new_date.date())"
   ]
  },
  {
   "cell_type": "code",
   "execution_count": 84,
   "id": "psychological-power",
   "metadata": {},
   "outputs": [
    {
     "name": "stdout",
     "output_type": "stream",
     "text": [
      "00:53:50.771340\n"
     ]
    }
   ],
   "source": [
    "current_date_time = datetime.datetime.today()\n",
    "\n",
    "new_date = current_date_time + datetime.timedelta(hours = 5)\n",
    "print(new_date.time())"
   ]
  },
  {
   "cell_type": "markdown",
   "id": "regulated-enclosure",
   "metadata": {},
   "source": [
    "# WAP to find next 10 days and previous 10 days"
   ]
  },
  {
   "cell_type": "code",
   "execution_count": 96,
   "id": "wicked-america",
   "metadata": {},
   "outputs": [
    {
     "name": "stdout",
     "output_type": "stream",
     "text": [
      "2021-06-10\n",
      "2021-06-11\n",
      "2021-06-12\n",
      "2021-06-13\n",
      "2021-06-14\n",
      "2021-06-15\n",
      "2021-06-16\n",
      "2021-06-17\n",
      "2021-06-18\n",
      "2021-06-19\n",
      "2021-06-08\n",
      "2021-06-07\n",
      "2021-06-06\n",
      "2021-06-05\n",
      "2021-06-04\n",
      "2021-06-03\n",
      "2021-06-02\n",
      "2021-06-01\n",
      "2021-05-31\n",
      "2021-05-30\n"
     ]
    }
   ],
   "source": [
    "current_date_time = datetime.datetime.today()\n",
    "\n",
    "for i in range(1,11):\n",
    "    new_date = current_date_time + datetime.timedelta(days = i)\n",
    "    print(new_date.date())\n",
    "for i in range(1,11):\n",
    "    new_date = current_date_time + datetime.timedelta(days = -i)\n",
    "    print(new_date.date())"
   ]
  },
  {
   "cell_type": "code",
   "execution_count": 95,
   "id": "opposed-genius",
   "metadata": {},
   "outputs": [
    {
     "name": "stdout",
     "output_type": "stream",
     "text": [
      "2021-06-08\n",
      "2021-06-07\n",
      "2021-06-06\n",
      "2021-06-05\n",
      "2021-06-04\n",
      "2021-06-03\n",
      "2021-06-02\n",
      "2021-06-01\n",
      "2021-05-31\n",
      "2021-05-30\n"
     ]
    }
   ],
   "source": [
    "for i in range(1,11):\n",
    "    new_date = current_date_time + datetime.timedelta(days = -i)\n",
    "    print(new_date.date())"
   ]
  },
  {
   "cell_type": "markdown",
   "id": "dietary-linux",
   "metadata": {},
   "source": [
    "# strftime()"
   ]
  },
  {
   "cell_type": "raw",
   "id": "enormous-acrylic",
   "metadata": {},
   "source": [
    "# str from time"
   ]
  },
  {
   "cell_type": "code",
   "execution_count": 141,
   "id": "sacred-abortion",
   "metadata": {},
   "outputs": [
    {
     "name": "stdout",
     "output_type": "stream",
     "text": [
      "2021-06-09 20:24:12.831651\n"
     ]
    },
    {
     "data": {
      "text/plain": [
       "'160'"
      ]
     },
     "execution_count": 141,
     "metadata": {},
     "output_type": "execute_result"
    }
   ],
   "source": [
    "current_date_time = datetime.datetime.today()\n",
    "print(current_date_time)\n",
    "\n",
    "current_date_time.strftime('%d') # 09\n",
    "current_date_time.strftime('%Y') # 2021\n",
    "current_date_time.strftime('%y')  # 21\n",
    "current_date_time.strftime('%m')  # 06\n",
    "current_date_time.strftime('%D')  # '06/09/21'\n",
    "current_date_time.strftime('%b')  # Jun  > Short version\n",
    "current_date_time.strftime('%B')  # June  > full version\n",
    "current_date_time.strftime('%A')  # Wednesday  > Full version\n",
    "current_date_time.strftime('%a')  # Wed  > Full version\n",
    "current_date_time.strftime('%w')  # Sun = 0 , Mon = 1\n",
    "current_date_time.strftime('%U')  # Week Number\n",
    "current_date_time.strftime('%H')  # 20\n",
    "current_date_time.strftime('%I')  # 08\n",
    "current_date_time.strftime('%j')  # Day Number\n",
    "current_date_time.strftime('%r')  # time\n",
    " "
   ]
  },
  {
   "cell_type": "code",
   "execution_count": 142,
   "id": "behavioral-traveler",
   "metadata": {},
   "outputs": [
    {
     "data": {
      "text/plain": [
       "'09/06/2021'"
      ]
     },
     "execution_count": 142,
     "metadata": {},
     "output_type": "execute_result"
    }
   ],
   "source": [
    "current_date_time.strftime('%d/%m/%Y')"
   ]
  },
  {
   "cell_type": "code",
   "execution_count": 4,
   "id": "objective-siemens",
   "metadata": {},
   "outputs": [],
   "source": [
    "\n",
    "current_date_time = datetime.datetime(2021,1,1)\n",
    "\n",
    "# current_date_time.strftime('%d') # 09\n",
    "# current_date_time.strftime('%Y') # 2021\n",
    "# current_date_time.strftime('%y')  # 21\n",
    "# current_date_time.strftime('%m')  # 06\n",
    "# current_date_time.strftime('%D')  # '06/09/21'\n",
    "# current_date_time.strftime('%b')  # Jun  > Short version\n",
    "# current_date_time.strftime('%B')  # June  > full version\n",
    "# current_date_time.strftime('%A')  # Wednesday  > Full version\n",
    "# current_date_time.strftime('%a')  # Wed  > Full version\n",
    "# current_date_time.strftime('%w')  # Sun = 0 , Mon = 1\n",
    "# current_date_time.strftime('%U')  # Week Number\n",
    "# current_date_time.strftime('%H')  # 20\n",
    "# current_date_time.strftime('%I')  # 08\n",
    "# current_date_time.strftime('%j')  # Day Number 000 to 366\n"
   ]
  },
  {
   "cell_type": "markdown",
   "id": "municipal-encounter",
   "metadata": {},
   "source": [
    "# strptime()"
   ]
  },
  {
   "cell_type": "raw",
   "id": "wired-greeting",
   "metadata": {},
   "source": [
    "str points to time\n",
    "str > time\n",
    "2021-06-09\n",
    "strptime(input_date_str, Date_format)"
   ]
  },
  {
   "cell_type": "code",
   "execution_count": 5,
   "id": "external-playing",
   "metadata": {},
   "outputs": [
    {
     "name": "stdout",
     "output_type": "stream",
     "text": [
      "2020-06-10 00:00:00\n"
     ]
    }
   ],
   "source": [
    "d1 = '10-June-2020'\n",
    "date = datetime.datetime.strptime('10-June-2020','%d-%B-%Y')\n",
    "print(date)"
   ]
  },
  {
   "cell_type": "code",
   "execution_count": 129,
   "id": "combined-weapon",
   "metadata": {},
   "outputs": [
    {
     "name": "stdout",
     "output_type": "stream",
     "text": [
      "2020-06-10 00:00:00\n"
     ]
    }
   ],
   "source": [
    "d1 = '10 Jun 2020'\n",
    "date = datetime.datetime.strptime(d1,'%d %b %Y')\n",
    "print(date)"
   ]
  },
  {
   "cell_type": "code",
   "execution_count": 131,
   "id": "measured-appliance",
   "metadata": {},
   "outputs": [
    {
     "name": "stdout",
     "output_type": "stream",
     "text": [
      "2021-06-10 00:00:00\n"
     ]
    }
   ],
   "source": [
    "d1 = '10/06/2021'\n",
    "date = datetime.datetime.strptime(d1,'%d/%m/%Y')\n",
    "print(date)"
   ]
  },
  {
   "cell_type": "code",
   "execution_count": 133,
   "id": "operational-smith",
   "metadata": {},
   "outputs": [
    {
     "name": "stdout",
     "output_type": "stream",
     "text": [
      "2021-06-10\n"
     ]
    }
   ],
   "source": [
    "d1 = '10/06/2021'\n",
    "date = datetime.datetime.strptime(d1,'%d/%m/%Y')\n",
    "print(date.date())"
   ]
  },
  {
   "cell_type": "code",
   "execution_count": 136,
   "id": "third-sample",
   "metadata": {},
   "outputs": [
    {
     "name": "stdout",
     "output_type": "stream",
     "text": [
      "2021-03-24\n"
     ]
    }
   ],
   "source": [
    "d1 = '2021-Mar-24'\n",
    "date = datetime.datetime.strptime(d1,'%Y-%b-%d')\n",
    "print(date.date())"
   ]
  },
  {
   "cell_type": "code",
   "execution_count": null,
   "id": "19e37287",
   "metadata": {},
   "outputs": [],
   "source": []
  },
  {
   "cell_type": "code",
   "execution_count": 138,
   "id": "great-function",
   "metadata": {},
   "outputs": [
    {
     "name": "stdout",
     "output_type": "stream",
     "text": [
      "2021-06-09\n"
     ]
    }
   ],
   "source": [
    "d1 = '09062021'\n",
    "date = datetime.datetime.strptime(d1,'%d%m%Y')\n",
    "print(date.date())"
   ]
  },
  {
   "cell_type": "code",
   "execution_count": 140,
   "id": "several-video",
   "metadata": {},
   "outputs": [
    {
     "name": "stdout",
     "output_type": "stream",
     "text": [
      "2021-06-09\n"
     ]
    }
   ],
   "source": [
    "d1 = '20210609'\n",
    "date = datetime.datetime.strptime(d1,'%Y%m%d')\n",
    "print(date.date())"
   ]
  },
  {
   "cell_type": "code",
   "execution_count": 143,
   "id": "short-struggle",
   "metadata": {},
   "outputs": [],
   "source": [
    "# Login Time\n",
    "\n",
    "dates_list = ['2021-Mar-24','2021-March-24']"
   ]
  },
  {
   "cell_type": "code",
   "execution_count": null,
   "id": "premium-remedy",
   "metadata": {},
   "outputs": [],
   "source": [
    "# Dashoboard\n",
    "# Process Document \n",
    "# Datetime.today()\n",
    "\n",
    "srNo     Document_name  Processing_Time         Status \n",
    "1        pan1.jpg       2021-06-09 19:44        Success\n",
    "2        pan2.jpg       2021-06-09 19:50        Fail\n"
   ]
  }
 ],
 "metadata": {
  "kernelspec": {
   "display_name": "Python 3",
   "language": "python",
   "name": "python3"
  },
  "language_info": {
   "codemirror_mode": {
    "name": "ipython",
    "version": 3
   },
   "file_extension": ".py",
   "mimetype": "text/x-python",
   "name": "python",
   "nbconvert_exporter": "python",
   "pygments_lexer": "ipython3",
   "version": "3.8.8"
  }
 },
 "nbformat": 4,
 "nbformat_minor": 5
}
