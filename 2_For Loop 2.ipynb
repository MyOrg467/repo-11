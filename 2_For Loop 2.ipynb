{
 "cells": [
  {
   "cell_type": "raw",
   "id": "appropriate-custody",
   "metadata": {},
   "source": [
    "# WAP to print below patteren\n",
    "\n",
    "    *\n",
    "   **\n",
    "  ***\n",
    " ****"
   ]
  },
  {
   "cell_type": "code",
   "execution_count": 1,
   "id": "comparable-touch",
   "metadata": {},
   "outputs": [
    {
     "name": "stdout",
     "output_type": "stream",
     "text": [
      "* * * * \n",
      "* * * * \n",
      "* * * * \n",
      "* * * * \n"
     ]
    }
   ],
   "source": [
    "n = 5\n",
    "for i in range(1,5):\n",
    "    for j in range(1,5):\n",
    "        print('*',end = ' ')\n",
    "    print()"
   ]
  },
  {
   "cell_type": "code",
   "execution_count": 3,
   "id": "sized-property",
   "metadata": {},
   "outputs": [
    {
     "name": "stdout",
     "output_type": "stream",
     "text": [
      "    * \n",
      "   * * \n",
      "  * * * \n",
      " * * * * \n"
     ]
    }
   ],
   "source": [
    "m=6\n",
    "for i in range(1,5):\n",
    "    m=m-1\n",
    "    for j in range(m,1,-1):\n",
    "        print('',end=' ')\n",
    "    for k in range(1,i+1):\n",
    "        print('*',end=' ')\n",
    "    \n",
    "    print()"
   ]
  },
  {
   "cell_type": "code",
   "execution_count": 4,
   "id": "21aab9c8",
   "metadata": {},
   "outputs": [
    {
     "name": "stdout",
     "output_type": "stream",
     "text": [
      "        * \n",
      "      * * \n",
      "    * * * \n",
      "  * * * * \n"
     ]
    }
   ],
   "source": [
    "m=6\n",
    "for i in range(1,5):\n",
    "    m=m-1\n",
    "    for j in range(m,1,-1):\n",
    "        print(' ',end=' ')\n",
    "    for k in range(1,i+1):\n",
    "        print('*',end=' ')\n",
    "    \n",
    "    print()"
   ]
  },
  {
   "cell_type": "code",
   "execution_count": 8,
   "id": "higher-edmonton",
   "metadata": {},
   "outputs": [
    {
     "name": "stdout",
     "output_type": "stream",
     "text": [
      "            \n",
      "          * \n",
      "        * * \n",
      "      * * * \n",
      "    * * * * \n"
     ]
    }
   ],
   "source": [
    "n=5\n",
    "for i in range(n) : # i == 1\n",
    "    \"  \"* (5)+ \"* \" *i\n",
    "    print(\"  \"* (n-i+1)+ \"* \" *i)"
   ]
  },
  {
   "cell_type": "code",
   "execution_count": 25,
   "id": "administrative-welsh",
   "metadata": {},
   "outputs": [
    {
     "name": "stdout",
     "output_type": "stream",
     "text": [
      "* * * * \n",
      "* * * * \n",
      "* * * * \n",
      "* * * * \n"
     ]
    }
   ],
   "source": [
    "n = 5\n",
    "for i in range(1,5):\n",
    "    for j in range(1,5):\n",
    "        print('*',end = ' ')\n",
    "    print()"
   ]
  },
  {
   "cell_type": "code",
   "execution_count": 3,
   "id": "informative-pierce",
   "metadata": {},
   "outputs": [
    {
     "name": "stdout",
     "output_type": "stream",
     "text": [
      "* \n",
      "* * \n",
      "* * * \n",
      "* * * * \n"
     ]
    }
   ],
   "source": [
    "n = 5\n",
    "for i in range(1,5):\n",
    "    for j in range(i):\n",
    "        print('*',end = ' ')\n",
    "    print()"
   ]
  },
  {
   "cell_type": "code",
   "execution_count": 2,
   "id": "partial-machine",
   "metadata": {},
   "outputs": [
    {
     "name": "stdout",
     "output_type": "stream",
     "text": [
      "* * * * \n",
      "  * * * \n",
      "    * * \n",
      "      * \n"
     ]
    }
   ],
   "source": [
    "n = 5\n",
    "for i in range(1,n): # i = 4\n",
    "    for j in range(1,n):\n",
    "        if  j >= i:   # 4 >= 3 # True\n",
    "            print('*',end = ' ')\n",
    "        else:\n",
    "            print(' ',end = ' ')\n",
    "    print()\n",
    "    \n",
    "# * * * * \n",
    "#   * * *\n",
    "#     * *\n",
    "#       *    "
   ]
  },
  {
   "cell_type": "code",
   "execution_count": 22,
   "id": "wicked-conjunction",
   "metadata": {},
   "outputs": [
    {
     "name": "stdout",
     "output_type": "stream",
     "text": [
      "      * \n",
      "    * * \n",
      "  * * * \n",
      "* * * * \n"
     ]
    }
   ],
   "source": [
    "n = 5\n",
    "for i in range(1,n): # i = 1\n",
    "    for j in range(1,n):\n",
    "        if  j >= n-i:   # 3 >=  3 # True\n",
    "            print('*',end = ' ')\n",
    "        else:\n",
    "            print(' ',end = ' ')\n",
    "    print()"
   ]
  },
  {
   "cell_type": "code",
   "execution_count": 24,
   "id": "aware-madness",
   "metadata": {},
   "outputs": [
    {
     "name": "stdout",
     "output_type": "stream",
     "text": [
      "      A \n",
      "    A A \n",
      "  A A A \n",
      "A A A A \n"
     ]
    }
   ],
   "source": [
    "n = 5\n",
    "for i in range(1,n): # i = 1\n",
    "    for j in range(1,n):\n",
    "        if  j >= n-i:   # 4 >=  4 # True\n",
    "            print('A',end = ' ')\n",
    "        else:\n",
    "            print(' ',end = ' ')\n",
    "    print()"
   ]
  },
  {
   "cell_type": "raw",
   "id": "bound-underwear",
   "metadata": {},
   "source": [
    "* \n",
    "* * \n",
    "* * * \n",
    "* * * * \n",
    "* * * \n",
    "* * \n",
    "* "
   ]
  },
  {
   "cell_type": "code",
   "execution_count": 15,
   "id": "vocal-alias",
   "metadata": {},
   "outputs": [
    {
     "name": "stdout",
     "output_type": "stream",
     "text": [
      "the =8\n",
      "\n",
      "* \n",
      "* * \n",
      "* * * \n",
      "* * * * \n",
      "* * * * * \n",
      "* * * * * * \n",
      "* * * * * * * \n",
      "* * * * * * * * \n",
      "* * * * * * * \n",
      "* * * * * * \n",
      "* * * * * \n",
      "* * * * \n",
      "* * * \n",
      "* * \n",
      "* \n"
     ]
    }
   ],
   "source": [
    "num = int(input('the =' ))\n",
    "for i in range(num):\n",
    "    for j in range(i):\n",
    "        print(\"*\",end=' ')\n",
    "    print()\n",
    "    \n",
    "for i in range(num):\n",
    "    for j in range(num-i):\n",
    "        print(\"*\",end=' ')\n",
    "    print()"
   ]
  },
  {
   "cell_type": "code",
   "execution_count": 35,
   "id": "approved-group",
   "metadata": {},
   "outputs": [
    {
     "name": "stdout",
     "output_type": "stream",
     "text": [
      "\n",
      "A \n",
      "B C \n",
      "D E F \n",
      "G H I J \n",
      "K L M N O \n",
      "P Q R S \n",
      "T U V \n",
      "W X \n",
      "Y \n"
     ]
    }
   ],
   "source": [
    "num = 5\n",
    "a = 65\n",
    "for i in range(num):\n",
    "    for j in range(i):\n",
    "        print(chr(a),end=' ')\n",
    "        a = a + 1\n",
    "    print()\n",
    "    \n",
    "for i in range(num):\n",
    "    for j in range(num-i):\n",
    "        print(chr(a),end=' ')\n",
    "        a = a + 1\n",
    "    print()"
   ]
  },
  {
   "cell_type": "code",
   "execution_count": 37,
   "id": "handmade-schedule",
   "metadata": {},
   "outputs": [
    {
     "name": "stdout",
     "output_type": "stream",
     "text": [
      "\n",
      "a \n",
      "b c \n",
      "d e f \n",
      "g h i j \n",
      "k l m n o \n",
      "p q r s \n",
      "t u v \n",
      "w x \n",
      "y \n"
     ]
    }
   ],
   "source": [
    "num = 5\n",
    "a = 97\n",
    "for i in range(num):\n",
    "    for j in range(i):\n",
    "        print(chr(a),end=' ')\n",
    "        a = a + 1\n",
    "    print()\n",
    "    \n",
    "for i in range(num):\n",
    "    for j in range(num-i):\n",
    "        print(chr(a),end=' ')\n",
    "        a = a + 1\n",
    "    print()"
   ]
  },
  {
   "cell_type": "code",
   "execution_count": null,
   "id": "present-honey",
   "metadata": {},
   "outputs": [],
   "source": []
  }
 ],
 "metadata": {
  "kernelspec": {
   "display_name": "Python 3",
   "language": "python",
   "name": "python3"
  },
  "language_info": {
   "codemirror_mode": {
    "name": "ipython",
    "version": 3
   },
   "file_extension": ".py",
   "mimetype": "text/x-python",
   "name": "python",
   "nbconvert_exporter": "python",
   "pygments_lexer": "ipython3",
   "version": "3.7.9"
  }
 },
 "nbformat": 4,
 "nbformat_minor": 5
}
