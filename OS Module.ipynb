{
 "cells": [
  {
   "cell_type": "markdown",
   "id": "trying-campbell",
   "metadata": {},
   "source": [
    "# OS Module"
   ]
  },
  {
   "cell_type": "raw",
   "id": "secure-overall",
   "metadata": {},
   "source": [
    "os >> Operating System\n",
    "It provides the functions for interacting with OS"
   ]
  },
  {
   "cell_type": "code",
   "execution_count": 7,
   "id": "collect-astrology",
   "metadata": {},
   "outputs": [],
   "source": [
    "import os"
   ]
  },
  {
   "cell_type": "code",
   "execution_count": null,
   "id": "velvet-switch",
   "metadata": {},
   "outputs": [],
   "source": [
    "create file/folder\n",
    "delete folder/directory\n",
    "rename file\n",
    "copy file\n",
    "CWD\n",
    "Change CWD"
   ]
  },
  {
   "cell_type": "code",
   "execution_count": 1,
   "id": "stone-plenty",
   "metadata": {},
   "outputs": [],
   "source": [
    "file = open('file3.txt','w') \n",
    "file.close()"
   ]
  },
  {
   "cell_type": "markdown",
   "id": "architectural-methodology",
   "metadata": {},
   "source": [
    "# 1. Rename File Name"
   ]
  },
  {
   "cell_type": "code",
   "execution_count": 2,
   "id": "11c55a3f",
   "metadata": {},
   "outputs": [],
   "source": [
    "import os"
   ]
  },
  {
   "cell_type": "code",
   "execution_count": 3,
   "id": "general-lincoln",
   "metadata": {},
   "outputs": [],
   "source": [
    "os.rename('file3.txt','file4.txt')"
   ]
  },
  {
   "cell_type": "code",
   "execution_count": 4,
   "id": "ec4477b8",
   "metadata": {},
   "outputs": [],
   "source": [
    "os.rename('Data','Data1')"
   ]
  },
  {
   "cell_type": "code",
   "execution_count": 6,
   "id": "clean-deposit",
   "metadata": {},
   "outputs": [
    {
     "data": {
      "text/plain": [
       "['.ipynb_checkpoints',\n",
       " '1_10 Dictionary',\n",
       " '1_11 Function',\n",
       " '1_12 File Handling',\n",
       " '1_13_OS_Module_DateTime',\n",
       " '1_14_Exception_Handling',\n",
       " '1_15_operator',\n",
       " '1_16_Class and Object',\n",
       " '1_1_Introduction',\n",
       " '1_2 Variable',\n",
       " '1_3 Data Types',\n",
       " '1_4 String Indexing',\n",
       " '1_5 List',\n",
       " '1_6 Tuple',\n",
       " '1_7 If else',\n",
       " '1_8 loops',\n",
       " '1_9 Set',\n",
       " 'lambda_function.ipynb',\n",
       " 'Rough File.ipynb']"
      ]
     },
     "execution_count": 6,
     "metadata": {},
     "output_type": "execute_result"
    }
   ],
   "source": [
    "# To get all file name in folders\n",
    "\n",
    "os.listdir(r'C:\\Users\\91940\\A_Python\\Class Lecture')"
   ]
  },
  {
   "cell_type": "markdown",
   "id": "adult-white",
   "metadata": {},
   "source": [
    "# 2. Remove File"
   ]
  },
  {
   "cell_type": "code",
   "execution_count": 17,
   "id": "incident-import",
   "metadata": {},
   "outputs": [],
   "source": [
    "os.removedirs(r'C:\\\\Users\\\\91940\\\\A_Python\\\\Class Lecture\\\\1_13_OS_Module_DateTime\\\\new')"
   ]
  },
  {
   "cell_type": "code",
   "execution_count": 13,
   "id": "84e38aca",
   "metadata": {},
   "outputs": [
    {
     "data": {
      "text/plain": [
       "'C:\\\\Users\\\\91940\\\\A_Python\\\\Class Lecture\\\\1_13_OS_Module_DateTime'"
      ]
     },
     "execution_count": 13,
     "metadata": {},
     "output_type": "execute_result"
    }
   ],
   "source": [
    "os.getcwd()"
   ]
  },
  {
   "cell_type": "code",
   "execution_count": 15,
   "id": "motivated-trail",
   "metadata": {},
   "outputs": [
    {
     "ename": "FileNotFoundError",
     "evalue": "[WinError 2] The system cannot find the file specified: 'file101.txt'",
     "output_type": "error",
     "traceback": [
      "\u001b[1;31m---------------------------------------------------------------------------\u001b[0m",
      "\u001b[1;31mFileNotFoundError\u001b[0m                         Traceback (most recent call last)",
      "\u001b[1;32m<ipython-input-15-85133485cef5>\u001b[0m in \u001b[0;36m<module>\u001b[1;34m\u001b[0m\n\u001b[1;32m----> 1\u001b[1;33m \u001b[0mos\u001b[0m\u001b[1;33m.\u001b[0m\u001b[0mremove\u001b[0m\u001b[1;33m(\u001b[0m\u001b[1;34m'file101.txt'\u001b[0m\u001b[1;33m)\u001b[0m\u001b[1;33m\u001b[0m\u001b[1;33m\u001b[0m\u001b[0m\n\u001b[0m",
      "\u001b[1;31mFileNotFoundError\u001b[0m: [WinError 2] The system cannot find the file specified: 'file101.txt'"
     ]
    }
   ],
   "source": [
    "os.remove('file101.txt')"
   ]
  },
  {
   "cell_type": "code",
   "execution_count": null,
   "id": "3e957545",
   "metadata": {},
   "outputs": [],
   "source": []
  },
  {
   "cell_type": "markdown",
   "id": "important-somalia",
   "metadata": {},
   "source": [
    "# 3. Create Folder"
   ]
  },
  {
   "cell_type": "code",
   "execution_count": 18,
   "id": "successful-sarah",
   "metadata": {},
   "outputs": [],
   "source": [
    "os.mkdir('Vaibhav')"
   ]
  },
  {
   "cell_type": "code",
   "execution_count": 19,
   "id": "thrown-symphony",
   "metadata": {},
   "outputs": [],
   "source": [
    "os.makedirs('shubham/pushkar/mahi/arati')"
   ]
  },
  {
   "cell_type": "code",
   "execution_count": 20,
   "id": "4e32ca9b",
   "metadata": {},
   "outputs": [
    {
     "ename": "OSError",
     "evalue": "[WinError 145] The directory is not empty: 'shubham'",
     "output_type": "error",
     "traceback": [
      "\u001b[1;31m---------------------------------------------------------------------------\u001b[0m",
      "\u001b[1;31mOSError\u001b[0m                                   Traceback (most recent call last)",
      "\u001b[1;32m<ipython-input-20-c1cc556fed0e>\u001b[0m in \u001b[0;36m<module>\u001b[1;34m\u001b[0m\n\u001b[1;32m----> 1\u001b[1;33m \u001b[0mos\u001b[0m\u001b[1;33m.\u001b[0m\u001b[0mremovedirs\u001b[0m\u001b[1;33m(\u001b[0m\u001b[1;34m'shubham'\u001b[0m\u001b[1;33m)\u001b[0m\u001b[1;33m\u001b[0m\u001b[1;33m\u001b[0m\u001b[0m\n\u001b[0m",
      "\u001b[1;32m~\\anaconda3\\lib\\os.py\u001b[0m in \u001b[0;36mremovedirs\u001b[1;34m(name)\u001b[0m\n\u001b[0;32m    239\u001b[0m \u001b[1;33m\u001b[0m\u001b[0m\n\u001b[0;32m    240\u001b[0m     \"\"\"\n\u001b[1;32m--> 241\u001b[1;33m     \u001b[0mrmdir\u001b[0m\u001b[1;33m(\u001b[0m\u001b[0mname\u001b[0m\u001b[1;33m)\u001b[0m\u001b[1;33m\u001b[0m\u001b[1;33m\u001b[0m\u001b[0m\n\u001b[0m\u001b[0;32m    242\u001b[0m     \u001b[0mhead\u001b[0m\u001b[1;33m,\u001b[0m \u001b[0mtail\u001b[0m \u001b[1;33m=\u001b[0m \u001b[0mpath\u001b[0m\u001b[1;33m.\u001b[0m\u001b[0msplit\u001b[0m\u001b[1;33m(\u001b[0m\u001b[0mname\u001b[0m\u001b[1;33m)\u001b[0m\u001b[1;33m\u001b[0m\u001b[1;33m\u001b[0m\u001b[0m\n\u001b[0;32m    243\u001b[0m     \u001b[1;32mif\u001b[0m \u001b[1;32mnot\u001b[0m \u001b[0mtail\u001b[0m\u001b[1;33m:\u001b[0m\u001b[1;33m\u001b[0m\u001b[1;33m\u001b[0m\u001b[0m\n",
      "\u001b[1;31mOSError\u001b[0m: [WinError 145] The directory is not empty: 'shubham'"
     ]
    }
   ],
   "source": [
    "os.removedirs('shubham')"
   ]
  },
  {
   "cell_type": "code",
   "execution_count": 21,
   "id": "2aaeadc2",
   "metadata": {},
   "outputs": [],
   "source": [
    "import shutil "
   ]
  },
  {
   "cell_type": "code",
   "execution_count": 22,
   "id": "9b2480fc",
   "metadata": {},
   "outputs": [],
   "source": [
    "shutil.rmtree('shubham')"
   ]
  },
  {
   "cell_type": "code",
   "execution_count": null,
   "id": "7c722374",
   "metadata": {},
   "outputs": [],
   "source": []
  },
  {
   "cell_type": "code",
   "execution_count": null,
   "id": "fdba2a1d",
   "metadata": {},
   "outputs": [],
   "source": []
  },
  {
   "cell_type": "code",
   "execution_count": null,
   "id": "537614ce",
   "metadata": {},
   "outputs": [],
   "source": []
  },
  {
   "cell_type": "code",
   "execution_count": null,
   "id": "30d30cc4",
   "metadata": {},
   "outputs": [],
   "source": []
  },
  {
   "cell_type": "markdown",
   "id": "jewish-reward",
   "metadata": {},
   "source": [
    "# 4. Remove Folder"
   ]
  },
  {
   "cell_type": "code",
   "execution_count": 23,
   "id": "legitimate-italic",
   "metadata": {},
   "outputs": [],
   "source": [
    "os.rmdir('vaibhav')"
   ]
  },
  {
   "cell_type": "code",
   "execution_count": 26,
   "id": "israeli-norfolk",
   "metadata": {},
   "outputs": [],
   "source": [
    "os.rmdir(r'C:\\Users\\91940\\Desktop\\new')"
   ]
  },
  {
   "cell_type": "code",
   "execution_count": 23,
   "id": "controlled-ridge",
   "metadata": {},
   "outputs": [
    {
     "ename": "FileExistsError",
     "evalue": "[WinError 183] Cannot create a file when that file already exists: 'Data'",
     "output_type": "error",
     "traceback": [
      "\u001b[1;31m---------------------------------------------------------------------------\u001b[0m",
      "\u001b[1;31mFileExistsError\u001b[0m                           Traceback (most recent call last)",
      "\u001b[1;32m<ipython-input-23-b97b04097faf>\u001b[0m in \u001b[0;36m<module>\u001b[1;34m\u001b[0m\n\u001b[1;32m----> 1\u001b[1;33m \u001b[0mos\u001b[0m\u001b[1;33m.\u001b[0m\u001b[0mmkdir\u001b[0m\u001b[1;33m(\u001b[0m\u001b[1;34m'Data'\u001b[0m\u001b[1;33m)\u001b[0m\u001b[1;33m\u001b[0m\u001b[1;33m\u001b[0m\u001b[0m\n\u001b[0m",
      "\u001b[1;31mFileExistsError\u001b[0m: [WinError 183] Cannot create a file when that file already exists: 'Data'"
     ]
    }
   ],
   "source": [
    "os.mkdir('Data')"
   ]
  },
  {
   "cell_type": "markdown",
   "id": "falling-mystery",
   "metadata": {},
   "source": [
    "# 5. Check if Folder exist"
   ]
  },
  {
   "cell_type": "raw",
   "id": "stock-bennett",
   "metadata": {},
   "source": [
    "True >> File Exist\n",
    "False >> File not exist"
   ]
  },
  {
   "cell_type": "code",
   "execution_count": 27,
   "id": "registered-neutral",
   "metadata": {},
   "outputs": [],
   "source": [
    "file = open('shubham.txt','w') \n",
    "file.close()"
   ]
  },
  {
   "cell_type": "code",
   "execution_count": 30,
   "id": "temporal-wichita",
   "metadata": {},
   "outputs": [
    {
     "data": {
      "text/plain": [
       "True"
      ]
     },
     "execution_count": 30,
     "metadata": {},
     "output_type": "execute_result"
    }
   ],
   "source": [
    "os.path.exists('Data1')"
   ]
  },
  {
   "cell_type": "code",
   "execution_count": 31,
   "id": "interesting-aging",
   "metadata": {},
   "outputs": [
    {
     "data": {
      "text/plain": [
       "True"
      ]
     },
     "execution_count": 31,
     "metadata": {},
     "output_type": "execute_result"
    }
   ],
   "source": [
    "os.path.exists('python')"
   ]
  },
  {
   "cell_type": "code",
   "execution_count": 44,
   "id": "engaged-probability",
   "metadata": {},
   "outputs": [
    {
     "data": {
      "text/plain": [
       "False"
      ]
     },
     "execution_count": 44,
     "metadata": {},
     "output_type": "execute_result"
    }
   ],
   "source": [
    "os.path.exists('Python')"
   ]
  },
  {
   "cell_type": "code",
   "execution_count": null,
   "id": "9d6ca6ca",
   "metadata": {},
   "outputs": [],
   "source": [
    "os."
   ]
  },
  {
   "cell_type": "code",
   "execution_count": null,
   "id": "e597ec35",
   "metadata": {},
   "outputs": [],
   "source": []
  },
  {
   "cell_type": "markdown",
   "id": "alive-essay",
   "metadata": {},
   "source": [
    "# Create folder"
   ]
  },
  {
   "cell_type": "code",
   "execution_count": 33,
   "id": "south-anaheim",
   "metadata": {},
   "outputs": [
    {
     "name": "stdout",
     "output_type": "stream",
     "text": [
      "Folder already exist\n"
     ]
    }
   ],
   "source": [
    "if not os.path.exists('Python'):\n",
    "    os.mkdir('Python')\n",
    "    print('Python folder created')\n",
    "else:\n",
    "    print('Folder already exist')\n",
    "    "
   ]
  },
  {
   "cell_type": "code",
   "execution_count": 34,
   "id": "fcc9cbff",
   "metadata": {},
   "outputs": [
    {
     "name": "stdout",
     "output_type": "stream",
     "text": [
      "Python folder deleted\n"
     ]
    }
   ],
   "source": [
    "if os.path.exists('Python1'):\n",
    "    os.rmdir('Python1')\n",
    "    print('Python folder deleted')\n",
    "else:\n",
    "    print('Folder already exist')"
   ]
  },
  {
   "cell_type": "code",
   "execution_count": 45,
   "id": "detailed-victor",
   "metadata": {},
   "outputs": [
    {
     "name": "stdout",
     "output_type": "stream",
     "text": [
      "Python folder created\n"
     ]
    }
   ],
   "source": [
    "if os.path.exists('Python'):\n",
    "    print('Folder already exist')\n",
    "    \n",
    "else:\n",
    "    os.mkdir('Python')\n",
    "    print('Python folder created')\n",
    "    "
   ]
  },
  {
   "cell_type": "code",
   "execution_count": null,
   "id": "focused-clearance",
   "metadata": {},
   "outputs": [],
   "source": []
  },
  {
   "cell_type": "markdown",
   "id": "raising-prediction",
   "metadata": {},
   "source": [
    "# Remove Folder"
   ]
  },
  {
   "cell_type": "code",
   "execution_count": 37,
   "id": "preliminary-cooler",
   "metadata": {},
   "outputs": [
    {
     "name": "stdout",
     "output_type": "stream",
     "text": [
      "Python Folder not exists\n"
     ]
    }
   ],
   "source": [
    "if os.path.exists('Python'):\n",
    "    os.rmdir('Python')\n",
    "    print('Python folder deleted')\n",
    "    \n",
    "else:\n",
    "    print('Python Folder not exists')\n",
    "    "
   ]
  },
  {
   "cell_type": "code",
   "execution_count": 40,
   "id": "79953ad5",
   "metadata": {},
   "outputs": [
    {
     "data": {
      "text/plain": [
       "'C:\\\\Users\\\\91940\\\\A_Python\\\\Class Lecture\\\\1_13_OS_Module_DateTime\\\\Data1'"
      ]
     },
     "execution_count": 40,
     "metadata": {},
     "output_type": "execute_result"
    }
   ],
   "source": [
    "os.getcwd()"
   ]
  },
  {
   "cell_type": "code",
   "execution_count": 48,
   "id": "821a18ff",
   "metadata": {},
   "outputs": [],
   "source": [
    "os.chdir('C:\\\\Users\\\\91940\\\\A_Python\\\\Class Lecture\\\\1_13_OS_Module_DateTime')"
   ]
  },
  {
   "cell_type": "code",
   "execution_count": 41,
   "id": "e91fc100",
   "metadata": {},
   "outputs": [
    {
     "data": {
      "text/plain": [
       "['file2.txt']"
      ]
     },
     "execution_count": 41,
     "metadata": {},
     "output_type": "execute_result"
    }
   ],
   "source": [
    "os.listdir()"
   ]
  },
  {
   "cell_type": "code",
   "execution_count": 42,
   "id": "8796f4fe",
   "metadata": {},
   "outputs": [
    {
     "data": {
      "text/plain": [
       "True"
      ]
     },
     "execution_count": 42,
     "metadata": {},
     "output_type": "execute_result"
    }
   ],
   "source": [
    "os.path.exists('file2.txt')"
   ]
  },
  {
   "cell_type": "code",
   "execution_count": 44,
   "id": "eae8512c",
   "metadata": {},
   "outputs": [
    {
     "name": "stdout",
     "output_type": "stream",
     "text": [
      "Data1 folder deleted\n"
     ]
    }
   ],
   "source": [
    "if  os.path.exists('file2.txt'):\n",
    "    os.remove('file2.txt')\n",
    "    print('Data1 folder deleted')\n",
    "    \n",
    "else:\n",
    "    print('Data1 Folder not exists')\n",
    "    "
   ]
  },
  {
   "cell_type": "code",
   "execution_count": 50,
   "id": "female-rehabilitation",
   "metadata": {},
   "outputs": [
    {
     "name": "stdout",
     "output_type": "stream",
     "text": [
      "Data1 folder deleted\n"
     ]
    }
   ],
   "source": [
    "if  os.path.exists('Data1'):\n",
    "    os.rmdir('Data1')\n",
    "    print('Data1 folder deleted')\n",
    "    \n",
    "else:\n",
    "    print('Data1 Folder not exists')\n",
    "    "
   ]
  },
  {
   "cell_type": "code",
   "execution_count": 47,
   "id": "initial-prime",
   "metadata": {},
   "outputs": [
    {
     "data": {
      "text/plain": [
       "False"
      ]
     },
     "execution_count": 47,
     "metadata": {},
     "output_type": "execute_result"
    }
   ],
   "source": [
    "os.path.exists('Data1')"
   ]
  },
  {
   "cell_type": "code",
   "execution_count": 46,
   "id": "cubic-camera",
   "metadata": {},
   "outputs": [
    {
     "name": "stdout",
     "output_type": "stream",
     "text": [
      "Folder already exist\n"
     ]
    }
   ],
   "source": [
    "if not os.path.exists('Python'):\n",
    "    os.mkdir('Python')\n",
    "    print('Python folder created')\n",
    "else:\n",
    "    print('Folder already exist')\n",
    "    "
   ]
  },
  {
   "cell_type": "code",
   "execution_count": 47,
   "id": "martial-replication",
   "metadata": {},
   "outputs": [],
   "source": [
    "file = open(r'Python\\file1.txt','w') \n",
    "file.close()"
   ]
  },
  {
   "cell_type": "code",
   "execution_count": 49,
   "id": "alien-junior",
   "metadata": {},
   "outputs": [],
   "source": [
    "file = open(r'Python\\file2.txt','w') \n",
    "file.close()"
   ]
  },
  {
   "cell_type": "code",
   "execution_count": 51,
   "id": "collected-delay",
   "metadata": {},
   "outputs": [
    {
     "ename": "OSError",
     "evalue": "[WinError 145] The directory is not empty: 'Python'",
     "output_type": "error",
     "traceback": [
      "\u001b[1;31m---------------------------------------------------------------------------\u001b[0m",
      "\u001b[1;31mOSError\u001b[0m                                   Traceback (most recent call last)",
      "\u001b[1;32m<ipython-input-51-33e4eab69cd8>\u001b[0m in \u001b[0;36m<module>\u001b[1;34m\u001b[0m\n\u001b[0;32m      1\u001b[0m \u001b[1;32mif\u001b[0m \u001b[0mos\u001b[0m\u001b[1;33m.\u001b[0m\u001b[0mpath\u001b[0m\u001b[1;33m.\u001b[0m\u001b[0mexists\u001b[0m\u001b[1;33m(\u001b[0m\u001b[1;34m'Python'\u001b[0m\u001b[1;33m)\u001b[0m\u001b[1;33m:\u001b[0m\u001b[1;33m\u001b[0m\u001b[1;33m\u001b[0m\u001b[0m\n\u001b[1;32m----> 2\u001b[1;33m     \u001b[0mos\u001b[0m\u001b[1;33m.\u001b[0m\u001b[0mrmdir\u001b[0m\u001b[1;33m(\u001b[0m\u001b[1;34m'Python'\u001b[0m\u001b[1;33m)\u001b[0m\u001b[1;33m\u001b[0m\u001b[1;33m\u001b[0m\u001b[0m\n\u001b[0m\u001b[0;32m      3\u001b[0m     \u001b[0mprint\u001b[0m\u001b[1;33m(\u001b[0m\u001b[1;34m'Python folder deleted'\u001b[0m\u001b[1;33m)\u001b[0m\u001b[1;33m\u001b[0m\u001b[1;33m\u001b[0m\u001b[0m\n\u001b[0;32m      4\u001b[0m \u001b[1;33m\u001b[0m\u001b[0m\n\u001b[0;32m      5\u001b[0m \u001b[1;32melse\u001b[0m\u001b[1;33m:\u001b[0m\u001b[1;33m\u001b[0m\u001b[1;33m\u001b[0m\u001b[0m\n",
      "\u001b[1;31mOSError\u001b[0m: [WinError 145] The directory is not empty: 'Python'"
     ]
    }
   ],
   "source": [
    "if os.path.exists('Python'):\n",
    "    os.rmdir('Python')\n",
    "    print('Python folder deleted')\n",
    "    \n",
    "else:\n",
    "    print('Python Folder not exists')\n",
    "    "
   ]
  },
  {
   "cell_type": "markdown",
   "id": "continent-florida",
   "metadata": {},
   "source": [
    "# Delete folder when dir is not empty"
   ]
  },
  {
   "cell_type": "code",
   "execution_count": 56,
   "id": "rational-abraham",
   "metadata": {},
   "outputs": [
    {
     "name": "stdout",
     "output_type": "stream",
     "text": [
      "Python Folder not exists\n"
     ]
    }
   ],
   "source": [
    "import shutil\n",
    "\n",
    "if os.path.exists('Python'):\n",
    "    shutil.rmtree('Python')\n",
    "    print('Python folder deleted')\n",
    "    \n",
    "else:\n",
    "    print('Python Folder not exists')"
   ]
  },
  {
   "cell_type": "code",
   "execution_count": 52,
   "id": "45ce7d45",
   "metadata": {},
   "outputs": [
    {
     "data": {
      "text/plain": [
       "True"
      ]
     },
     "execution_count": 52,
     "metadata": {},
     "output_type": "execute_result"
    }
   ],
   "source": [
    "os.path.exists('shubham')"
   ]
  },
  {
   "cell_type": "code",
   "execution_count": 53,
   "id": "db29bc7f",
   "metadata": {},
   "outputs": [
    {
     "name": "stdout",
     "output_type": "stream",
     "text": [
      "shubham folder deleted\n"
     ]
    }
   ],
   "source": [
    "import shutil\n",
    "\n",
    "if os.path.exists('shubham'):\n",
    "    shutil.rmtree('shubham')\n",
    "    print('shubham folder deleted')\n",
    "    \n",
    "else:\n",
    "    print('shubham Folder not exists')"
   ]
  },
  {
   "cell_type": "code",
   "execution_count": null,
   "id": "350983cf",
   "metadata": {},
   "outputs": [],
   "source": []
  },
  {
   "cell_type": "code",
   "execution_count": 60,
   "id": "baking-chart",
   "metadata": {},
   "outputs": [],
   "source": [
    "# dir(os)"
   ]
  },
  {
   "cell_type": "markdown",
   "id": "awful-penalty",
   "metadata": {},
   "source": [
    "# move File"
   ]
  },
  {
   "cell_type": "code",
   "execution_count": 54,
   "id": "e97dc163",
   "metadata": {},
   "outputs": [],
   "source": [
    "os.mkdir('arti')"
   ]
  },
  {
   "cell_type": "code",
   "execution_count": 55,
   "id": "2ba88778",
   "metadata": {},
   "outputs": [],
   "source": [
    "with open ('text1.txt','w') as f:\n",
    "    f.write('hiiiii arti')"
   ]
  },
  {
   "cell_type": "code",
   "execution_count": 56,
   "id": "b15037fd",
   "metadata": {},
   "outputs": [
    {
     "data": {
      "text/plain": [
       "'arti\\\\text1.txt'"
      ]
     },
     "execution_count": 56,
     "metadata": {},
     "output_type": "execute_result"
    }
   ],
   "source": [
    "shutil.move('text1.txt','arti')"
   ]
  },
  {
   "cell_type": "raw",
   "id": "radical-beauty",
   "metadata": {},
   "source": [
    "shutil.move(source,dest)"
   ]
  },
  {
   "cell_type": "code",
   "execution_count": 63,
   "id": "stylish-projector",
   "metadata": {},
   "outputs": [
    {
     "data": {
      "text/plain": [
       "'Data\\\\file1.txt'"
      ]
     },
     "execution_count": 63,
     "metadata": {},
     "output_type": "execute_result"
    }
   ],
   "source": [
    "shutil.move('file1.txt','Data')"
   ]
  },
  {
   "cell_type": "code",
   "execution_count": 64,
   "id": "undefined-business",
   "metadata": {},
   "outputs": [],
   "source": [
    "os.mkdir('Python')"
   ]
  },
  {
   "cell_type": "code",
   "execution_count": 67,
   "id": "enormous-category",
   "metadata": {},
   "outputs": [
    {
     "data": {
      "text/plain": [
       "'Python\\\\file1.txt'"
      ]
     },
     "execution_count": 67,
     "metadata": {},
     "output_type": "execute_result"
    }
   ],
   "source": [
    "shutil.move('Data\\\\file1.txt','Python')"
   ]
  },
  {
   "cell_type": "markdown",
   "id": "connected-offer",
   "metadata": {},
   "source": [
    "# To check CWD"
   ]
  },
  {
   "cell_type": "code",
   "execution_count": 57,
   "id": "fifty-eleven",
   "metadata": {},
   "outputs": [
    {
     "data": {
      "text/plain": [
       "'C:\\\\Users\\\\91940\\\\A_Python\\\\Class Lecture\\\\1_13_OS_Module_DateTime'"
      ]
     },
     "execution_count": 57,
     "metadata": {},
     "output_type": "execute_result"
    }
   ],
   "source": [
    "os.getcwd()"
   ]
  },
  {
   "cell_type": "code",
   "execution_count": 71,
   "id": "brave-letters",
   "metadata": {},
   "outputs": [],
   "source": [
    "folder_path_linux = '/home/pro--x/velocity/python/velocity/practice'\n",
    "\n",
    "folder_path_windows = 'D:\\\\RahulK\\\\Velocity_May21\\\\06_09'"
   ]
  },
  {
   "cell_type": "code",
   "execution_count": 74,
   "id": "objective-morocco",
   "metadata": {},
   "outputs": [
    {
     "name": "stdout",
     "output_type": "stream",
     "text": [
      "D:\\RahulK\\Velocity_May21\\newfolder\n"
     ]
    }
   ],
   "source": [
    "path = r'D:\\RahulK\\Velocity_May21\\newfolder' \n",
    "print(path)"
   ]
  },
  {
   "cell_type": "code",
   "execution_count": 58,
   "id": "mental-underground",
   "metadata": {},
   "outputs": [],
   "source": [
    "import json\n",
    "dict1 = \"\"\"{\"A\":\"01\",\"B\":\"02\"} \"\"\"\n",
    "\n",
    "with open('xyz.txt','w') as file:\n",
    "    file.write(dict1)"
   ]
  },
  {
   "cell_type": "code",
   "execution_count": 81,
   "id": "clear-lending",
   "metadata": {},
   "outputs": [],
   "source": [
    "import json\n",
    "dict1 = {\"A\":\"01\",\"B\":1234567}\n",
    "\n",
    "with open('abc.json','w') as file:\n",
    "    json.dump(dict1,file)"
   ]
  },
  {
   "cell_type": "code",
   "execution_count": 63,
   "id": "7fb885f3",
   "metadata": {},
   "outputs": [
    {
     "data": {
      "text/plain": [
       "False"
      ]
     },
     "execution_count": 63,
     "metadata": {},
     "output_type": "execute_result"
    }
   ],
   "source": [
    "os.access('arti\\\\text1.txt',os.F_OK)"
   ]
  },
  {
   "cell_type": "code",
   "execution_count": 64,
   "id": "e90b6312",
   "metadata": {},
   "outputs": [
    {
     "data": {
      "text/plain": [
       "os.stat_result(st_mode=16895, st_ino=16325548649263263, st_dev=2252406228, st_nlink=1, st_uid=0, st_gid=0, st_size=0, st_atime=1624128087, st_mtime=1624128086, st_ctime=1624127345)"
      ]
     },
     "execution_count": 64,
     "metadata": {},
     "output_type": "execute_result"
    }
   ],
   "source": [
    "os.stat('arti')"
   ]
  },
  {
   "cell_type": "code",
   "execution_count": null,
   "id": "601086b4",
   "metadata": {},
   "outputs": [],
   "source": []
  }
 ],
 "metadata": {
  "kernelspec": {
   "display_name": "Python 3",
   "language": "python",
   "name": "python3"
  },
  "language_info": {
   "codemirror_mode": {
    "name": "ipython",
    "version": 3
   },
   "file_extension": ".py",
   "mimetype": "text/x-python",
   "name": "python",
   "nbconvert_exporter": "python",
   "pygments_lexer": "ipython3",
   "version": "3.8.8"
  }
 },
 "nbformat": 4,
 "nbformat_minor": 5
}
