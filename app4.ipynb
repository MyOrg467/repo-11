{
 "cells": [
  {
   "cell_type": "markdown",
   "id": "controlling-struggle",
   "metadata": {
    "id": "controlling-struggle"
   },
   "source": [
    "# Data Types"
   ]
  },
  {
   "cell_type": "code",
   "execution_count": null,
   "id": "sufficient-japan",
   "metadata": {
    "id": "sufficient-japan"
   },
   "outputs": [],
   "source": [
    "Numerical: int, float, complex\n",
    "\n",
    "Sequence: list, tuple, range\n",
    "\n",
    "Text: str\n",
    "\n",
    "Mapping: dict\n",
    "\n",
    "Set : set , frozenset\n",
    "    \n",
    "Boolean: True , False"
   ]
  },
  {
   "cell_type": "code",
   "execution_count": null,
   "id": "pressed-increase",
   "metadata": {
    "id": "pressed-increase"
   },
   "outputs": [],
   "source": []
  },
  {
   "cell_type": "markdown",
   "id": "quick-commitment",
   "metadata": {
    "id": "quick-commitment"
   },
   "source": [
    "# 1.  Numerical DataTypes"
   ]
  },
  {
   "cell_type": "markdown",
   "id": "demonstrated-alexander",
   "metadata": {
    "id": "demonstrated-alexander"
   },
   "source": [
    "## 1. int Data Type"
   ]
  },
  {
   "cell_type": "code",
   "execution_count": 15,
   "id": "classified-classroom",
   "metadata": {
    "executionInfo": {
     "elapsed": 2936,
     "status": "ok",
     "timestamp": 1621235391213,
     "user": {
      "displayName": "abhi bandgar",
      "photoUrl": "",
      "userId": "00420871405872623314"
     },
     "user_tz": -330
    },
    "id": "classified-classroom"
   },
   "outputs": [],
   "source": [
    "a = 20"
   ]
  },
  {
   "cell_type": "code",
   "execution_count": 16,
   "id": "clinical-organization",
   "metadata": {
    "colab": {
     "base_uri": "https://localhost:8080/"
    },
    "executionInfo": {
     "elapsed": 2417,
     "status": "ok",
     "timestamp": 1621235395921,
     "user": {
      "displayName": "abhi bandgar",
      "photoUrl": "",
      "userId": "00420871405872623314"
     },
     "user_tz": -330
    },
    "id": "clinical-organization",
    "outputId": "8e877ec3-168a-46da-9f5f-2d2ab617e96b"
   },
   "outputs": [
    {
     "name": "stdout",
     "output_type": "stream",
     "text": [
      "<class 'int'>\n"
     ]
    }
   ],
   "source": [
    "print(type(a))"
   ]
  },
  {
   "cell_type": "raw",
   "id": "satisfactory-sampling",
   "metadata": {
    "id": "satisfactory-sampling"
   },
   "source": [
    "positive and negative \n",
    "whole number\n",
    "without decimal"
   ]
  },
  {
   "cell_type": "code",
   "execution_count": 17,
   "id": "freelance-block",
   "metadata": {
    "colab": {
     "base_uri": "https://localhost:8080/"
    },
    "executionInfo": {
     "elapsed": 2338,
     "status": "ok",
     "timestamp": 1621235408686,
     "user": {
      "displayName": "abhi bandgar",
      "photoUrl": "",
      "userId": "00420871405872623314"
     },
     "user_tz": -330
    },
    "id": "freelance-block",
    "outputId": "e0e8d4a5-c386-4b75-a262-9ea66c0cb722"
   },
   "outputs": [
    {
     "data": {
      "text/plain": [
       "int"
      ]
     },
     "execution_count": 17,
     "metadata": {
      "tags": []
     },
     "output_type": "execute_result"
    }
   ],
   "source": [
    "x = 50\n",
    "type(x)"
   ]
  },
  {
   "cell_type": "code",
   "execution_count": 18,
   "id": "dense-instrument",
   "metadata": {
    "colab": {
     "base_uri": "https://localhost:8080/"
    },
    "executionInfo": {
     "elapsed": 959,
     "status": "ok",
     "timestamp": 1621235412236,
     "user": {
      "displayName": "abhi bandgar",
      "photoUrl": "",
      "userId": "00420871405872623314"
     },
     "user_tz": -330
    },
    "id": "dense-instrument",
    "outputId": "c3a8a511-2fae-433e-8f3e-422746118482"
   },
   "outputs": [
    {
     "data": {
      "text/plain": [
       "int"
      ]
     },
     "execution_count": 18,
     "metadata": {
      "tags": []
     },
     "output_type": "execute_result"
    }
   ],
   "source": [
    "x = -50\n",
    "type(x)"
   ]
  },
  {
   "cell_type": "markdown",
   "id": "aggregate-confidentiality",
   "metadata": {
    "id": "aggregate-confidentiality"
   },
   "source": [
    "## 2. Float Data Type"
   ]
  },
  {
   "cell_type": "raw",
   "id": "patent-chase",
   "metadata": {
    "id": "patent-chase"
   },
   "source": [
    "positive and negative \n",
    "with decimal point"
   ]
  },
  {
   "cell_type": "code",
   "execution_count": null,
   "id": "extraordinary-inclusion",
   "metadata": {
    "id": "extraordinary-inclusion"
   },
   "outputs": [],
   "source": [
    "a = 3.14\n",
    "b = -23.45\n",
    "c = 20.12\n",
    "d = 20e3"
   ]
  },
  {
   "cell_type": "code",
   "execution_count": 19,
   "id": "committed-entity",
   "metadata": {
    "colab": {
     "base_uri": "https://localhost:8080/"
    },
    "executionInfo": {
     "elapsed": 1187,
     "status": "ok",
     "timestamp": 1621235421641,
     "user": {
      "displayName": "abhi bandgar",
      "photoUrl": "",
      "userId": "00420871405872623314"
     },
     "user_tz": -330
    },
    "id": "committed-entity",
    "outputId": "93d21ccf-d989-421d-8e1e-d87a8d1eab08"
   },
   "outputs": [
    {
     "name": "stdout",
     "output_type": "stream",
     "text": [
      "<class 'int'>\n",
      "<class 'float'>\n",
      "<class 'float'>\n",
      "<class 'float'>\n"
     ]
    }
   ],
   "source": [
    "print(type(a))\n",
    "print(type(b))\n",
    "print(type(c))\n",
    "print(type(d))"
   ]
  },
  {
   "cell_type": "code",
   "execution_count": null,
   "id": "laughing-vegetable",
   "metadata": {
    "colab": {
     "base_uri": "https://localhost:8080/"
    },
    "executionInfo": {
     "elapsed": 1481,
     "status": "ok",
     "timestamp": 1621233629447,
     "user": {
      "displayName": "abhi bandgar",
      "photoUrl": "",
      "userId": "00420871405872623314"
     },
     "user_tz": -330
    },
    "id": "laughing-vegetable",
    "outputId": "4281d6a0-d636-4d23-dcf6-518b24b5f95c"
   },
   "outputs": [
    {
     "name": "stdout",
     "output_type": "stream",
     "text": [
      "20000.0\n"
     ]
    }
   ],
   "source": [
    "# Scientific number to indicate pow of 10\n",
    " \n",
    "# 20e3 = 20 * 10^3\n",
    "print(d)"
   ]
  },
  {
   "cell_type": "code",
   "execution_count": 20,
   "id": "broadband-biography",
   "metadata": {
    "colab": {
     "base_uri": "https://localhost:8080/"
    },
    "executionInfo": {
     "elapsed": 1172,
     "status": "ok",
     "timestamp": 1621235429116,
     "user": {
      "displayName": "abhi bandgar",
      "photoUrl": "",
      "userId": "00420871405872623314"
     },
     "user_tz": -330
    },
    "id": "broadband-biography",
    "outputId": "246628f2-bc36-4742-d0ac-330a1a34a309"
   },
   "outputs": [
    {
     "data": {
      "text/plain": [
       "120000.0"
      ]
     },
     "execution_count": 20,
     "metadata": {
      "tags": []
     },
     "output_type": "execute_result"
    }
   ],
   "source": [
    "12e4"
   ]
  },
  {
   "cell_type": "code",
   "execution_count": null,
   "id": "revolutionary-understanding",
   "metadata": {
    "colab": {
     "base_uri": "https://localhost:8080/",
     "height": 147
    },
    "executionInfo": {
     "elapsed": 1197,
     "status": "error",
     "timestamp": 1621233663378,
     "user": {
      "displayName": "abhi bandgar",
      "photoUrl": "",
      "userId": "00420871405872623314"
     },
     "user_tz": -330
    },
    "id": "revolutionary-understanding",
    "outputId": "f6c7b8df-61ab-447d-cec5-c2624daf7a4f"
   },
   "outputs": [
    {
     "ename": "SyntaxError",
     "evalue": "ignored",
     "output_type": "error",
     "traceback": [
      "\u001b[0;36m  File \u001b[0;32m\"<ipython-input-11-a32bbe2f1075>\"\u001b[0;36m, line \u001b[0;32m1\u001b[0m\n\u001b[0;31m    12e-4 = 12 * (10^-4)\u001b[0m\n\u001b[0m                        ^\u001b[0m\n\u001b[0;31mSyntaxError\u001b[0m\u001b[0;31m:\u001b[0m can't assign to literal\n"
     ]
    }
   ],
   "source": [
    "12e-4 = 12 * (10^-4)"
   ]
  },
  {
   "cell_type": "markdown",
   "id": "treated-artist",
   "metadata": {
    "id": "treated-artist"
   },
   "source": [
    "## 3. Complex"
   ]
  },
  {
   "cell_type": "raw",
   "id": "reported-comedy",
   "metadata": {
    "id": "reported-comedy"
   },
   "source": [
    "Real and imaginary part\n",
    "\n"
   ]
  },
  {
   "cell_type": "code",
   "execution_count": 22,
   "id": "broken-macedonia",
   "metadata": {
    "colab": {
     "base_uri": "https://localhost:8080/"
    },
    "executionInfo": {
     "elapsed": 1342,
     "status": "ok",
     "timestamp": 1621235453950,
     "user": {
      "displayName": "abhi bandgar",
      "photoUrl": "",
      "userId": "00420871405872623314"
     },
     "user_tz": -330
    },
    "id": "broken-macedonia",
    "outputId": "c485b498-3ed2-4be5-eb9f-ba5532d4db0f"
   },
   "outputs": [
    {
     "name": "stdout",
     "output_type": "stream",
     "text": [
      "<class 'complex'>\n"
     ]
    }
   ],
   "source": [
    "x = 4 + 6j\n",
    "type(x)\n",
    "print(type(x))"
   ]
  },
  {
   "cell_type": "code",
   "execution_count": 23,
   "id": "proved-subcommittee",
   "metadata": {
    "colab": {
     "base_uri": "https://localhost:8080/"
    },
    "executionInfo": {
     "elapsed": 1709,
     "status": "ok",
     "timestamp": 1621235459561,
     "user": {
      "displayName": "abhi bandgar",
      "photoUrl": "",
      "userId": "00420871405872623314"
     },
     "user_tz": -330
    },
    "id": "proved-subcommittee",
    "outputId": "10ee3b78-0283-433b-e42e-e429aac5702c"
   },
   "outputs": [
    {
     "data": {
      "text/plain": [
       "complex"
      ]
     },
     "execution_count": 23,
     "metadata": {
      "tags": []
     },
     "output_type": "execute_result"
    }
   ],
   "source": [
    "y = -4 + 8j\n",
    "type(y)"
   ]
  },
  {
   "cell_type": "code",
   "execution_count": 24,
   "id": "nervous-photographer",
   "metadata": {
    "colab": {
     "base_uri": "https://localhost:8080/"
    },
    "executionInfo": {
     "elapsed": 1189,
     "status": "ok",
     "timestamp": 1621235464318,
     "user": {
      "displayName": "abhi bandgar",
      "photoUrl": "",
      "userId": "00420871405872623314"
     },
     "user_tz": -330
    },
    "id": "nervous-photographer",
    "outputId": "6570649d-17d3-40a9-ae99-86d708211209"
   },
   "outputs": [
    {
     "data": {
      "text/plain": [
       "complex"
      ]
     },
     "execution_count": 24,
     "metadata": {
      "tags": []
     },
     "output_type": "execute_result"
    }
   ],
   "source": [
    "y = -4.24 - 8j\n",
    "type(y)"
   ]
  },
  {
   "cell_type": "code",
   "execution_count": 27,
   "id": "TZhVqCYwKhSF",
   "metadata": {
    "colab": {
     "base_uri": "https://localhost:8080/"
    },
    "executionInfo": {
     "elapsed": 1723,
     "status": "ok",
     "timestamp": 1621235572689,
     "user": {
      "displayName": "abhi bandgar",
      "photoUrl": "",
      "userId": "00420871405872623314"
     },
     "user_tz": -330
    },
    "id": "TZhVqCYwKhSF",
    "outputId": "b2a5eed7-54a7-45c4-cb52-e9096b4d3306"
   },
   "outputs": [
    {
     "name": "stdout",
     "output_type": "stream",
     "text": [
      "10.0\n"
     ]
    }
   ],
   "source": [
    "a=10\n",
    "D=float(a) \n",
    "print(D)"
   ]
  },
  {
   "cell_type": "markdown",
   "id": "partial-yukon",
   "metadata": {
    "id": "partial-yukon"
   },
   "source": [
    "# Python Casting"
   ]
  },
  {
   "cell_type": "code",
   "execution_count": 28,
   "id": "mineral-barrier",
   "metadata": {
    "colab": {
     "base_uri": "https://localhost:8080/"
    },
    "executionInfo": {
     "elapsed": 1504,
     "status": "ok",
     "timestamp": 1621235579259,
     "user": {
      "displayName": "abhi bandgar",
      "photoUrl": "",
      "userId": "00420871405872623314"
     },
     "user_tz": -330
    },
    "id": "mineral-barrier",
    "outputId": "1a8aad91-3338-4b03-eabe-c27206505821"
   },
   "outputs": [
    {
     "data": {
      "text/plain": [
       "float"
      ]
     },
     "execution_count": 28,
     "metadata": {
      "tags": []
     },
     "output_type": "execute_result"
    }
   ],
   "source": [
    "# Float to Int \n",
    "a = 3.14\n",
    "type(a)"
   ]
  },
  {
   "cell_type": "code",
   "execution_count": 29,
   "id": "spectacular-breast",
   "metadata": {
    "colab": {
     "base_uri": "https://localhost:8080/"
    },
    "executionInfo": {
     "elapsed": 1262,
     "status": "ok",
     "timestamp": 1621235584532,
     "user": {
      "displayName": "abhi bandgar",
      "photoUrl": "",
      "userId": "00420871405872623314"
     },
     "user_tz": -330
    },
    "id": "spectacular-breast",
    "outputId": "7adeea12-82c0-4af8-a585-061126c4c781"
   },
   "outputs": [
    {
     "data": {
      "text/plain": [
       "3"
      ]
     },
     "execution_count": 29,
     "metadata": {
      "tags": []
     },
     "output_type": "execute_result"
    }
   ],
   "source": [
    "int(a)"
   ]
  },
  {
   "cell_type": "code",
   "execution_count": 30,
   "id": "valuable-honor",
   "metadata": {
    "colab": {
     "base_uri": "https://localhost:8080/"
    },
    "executionInfo": {
     "elapsed": 1465,
     "status": "ok",
     "timestamp": 1621235598435,
     "user": {
      "displayName": "abhi bandgar",
      "photoUrl": "",
      "userId": "00420871405872623314"
     },
     "user_tz": -330
    },
    "id": "valuable-honor",
    "outputId": "afcb8ddd-f8c5-4759-f013-c0d4a0caa382"
   },
   "outputs": [
    {
     "data": {
      "text/plain": [
       "34"
      ]
     },
     "execution_count": 30,
     "metadata": {
      "tags": []
     },
     "output_type": "execute_result"
    }
   ],
   "source": [
    "b = 34.56\n",
    "int(b)"
   ]
  },
  {
   "cell_type": "code",
   "execution_count": 31,
   "id": "mexican-skirt",
   "metadata": {
    "colab": {
     "base_uri": "https://localhost:8080/"
    },
    "executionInfo": {
     "elapsed": 1439,
     "status": "ok",
     "timestamp": 1621235605687,
     "user": {
      "displayName": "abhi bandgar",
      "photoUrl": "",
      "userId": "00420871405872623314"
     },
     "user_tz": -330
    },
    "id": "mexican-skirt",
    "outputId": "235aec57-5264-415c-b57a-59c17433ea8d"
   },
   "outputs": [
    {
     "data": {
      "text/plain": [
       "int"
      ]
     },
     "execution_count": 31,
     "metadata": {
      "tags": []
     },
     "output_type": "execute_result"
    }
   ],
   "source": [
    "# int to float\n",
    "a = 45\n",
    "type(a)"
   ]
  },
  {
   "cell_type": "code",
   "execution_count": 32,
   "id": "generous-intention",
   "metadata": {
    "colab": {
     "base_uri": "https://localhost:8080/"
    },
    "executionInfo": {
     "elapsed": 1339,
     "status": "ok",
     "timestamp": 1621235614346,
     "user": {
      "displayName": "abhi bandgar",
      "photoUrl": "",
      "userId": "00420871405872623314"
     },
     "user_tz": -330
    },
    "id": "generous-intention",
    "outputId": "6166d602-9051-469c-a1a5-d883cd54ce6d"
   },
   "outputs": [
    {
     "data": {
      "text/plain": [
       "float"
      ]
     },
     "execution_count": 32,
     "metadata": {
      "tags": []
     },
     "output_type": "execute_result"
    }
   ],
   "source": [
    "c = float(a)\n",
    "type(c)"
   ]
  },
  {
   "cell_type": "code",
   "execution_count": null,
   "id": "injured-blank",
   "metadata": {
    "id": "injured-blank"
   },
   "outputs": [],
   "source": [
    "# int to complex"
   ]
  },
  {
   "cell_type": "code",
   "execution_count": 2,
   "id": "amateur-decimal",
   "metadata": {
    "colab": {
     "base_uri": "https://localhost:8080/"
    },
    "executionInfo": {
     "elapsed": 2341,
     "status": "ok",
     "timestamp": 1621241090110,
     "user": {
      "displayName": "abhi bandgar",
      "photoUrl": "",
      "userId": "00420871405872623314"
     },
     "user_tz": -330
    },
    "id": "amateur-decimal",
    "outputId": "515e5d3e-af35-49b8-d90e-22064b0c4dfa"
   },
   "outputs": [
    {
     "data": {
      "text/plain": [
       "(23+0j)"
      ]
     },
     "execution_count": 2,
     "metadata": {
      "tags": []
     },
     "output_type": "execute_result"
    }
   ],
   "source": [
    "a = 23\n",
    "complex(a)"
   ]
  },
  {
   "cell_type": "code",
   "execution_count": 4,
   "id": "confused-rough",
   "metadata": {
    "colab": {
     "base_uri": "https://localhost:8080/"
    },
    "executionInfo": {
     "elapsed": 1234,
     "status": "ok",
     "timestamp": 1621241158256,
     "user": {
      "displayName": "abhi bandgar",
      "photoUrl": "",
      "userId": "00420871405872623314"
     },
     "user_tz": -330
    },
    "id": "confused-rough",
    "outputId": "a03a09c2-fe08-4212-91d0-ff7a2ec96c05"
   },
   "outputs": [
    {
     "name": "stdout",
     "output_type": "stream",
     "text": [
      "<class 'complex'>\n",
      "<class 'complex'>\n"
     ]
    },
    {
     "data": {
      "text/plain": [
       "23"
      ]
     },
     "execution_count": 4,
     "metadata": {
      "tags": []
     },
     "output_type": "execute_result"
    }
   ],
   "source": [
    "b = complex(a)\n",
    " \n",
    "print(type(b))\n",
    " \n",
    "type(a)\n",
    "print(type(b))\n",
    "type(a)\n",
    "a"
   ]
  },
  {
   "cell_type": "markdown",
   "id": "nOTnP38iIvi0",
   "metadata": {
    "id": "nOTnP38iIvi0"
   },
   "source": []
  },
  {
   "cell_type": "code",
   "execution_count": 5,
   "id": "useful-sweet",
   "metadata": {
    "executionInfo": {
     "elapsed": 1161,
     "status": "ok",
     "timestamp": 1621241163107,
     "user": {
      "displayName": "abhi bandgar",
      "photoUrl": "",
      "userId": "00420871405872623314"
     },
     "user_tz": -330
    },
    "id": "useful-sweet"
   },
   "outputs": [],
   "source": [
    "# Float to Complex\n",
    "x = 2.45"
   ]
  },
  {
   "cell_type": "code",
   "execution_count": 6,
   "id": "mysterious-thread",
   "metadata": {
    "colab": {
     "base_uri": "https://localhost:8080/"
    },
    "executionInfo": {
     "elapsed": 1369,
     "status": "ok",
     "timestamp": 1621241167270,
     "user": {
      "displayName": "abhi bandgar",
      "photoUrl": "",
      "userId": "00420871405872623314"
     },
     "user_tz": -330
    },
    "id": "mysterious-thread",
    "outputId": "ecd8505a-b862-4cb5-bd3f-78f08b902b0f"
   },
   "outputs": [
    {
     "data": {
      "text/plain": [
       "(2.45+0j)"
      ]
     },
     "execution_count": 6,
     "metadata": {
      "tags": []
     },
     "output_type": "execute_result"
    }
   ],
   "source": [
    "complex(x)"
   ]
  },
  {
   "cell_type": "code",
   "execution_count": 7,
   "id": "artistic-basis",
   "metadata": {
    "colab": {
     "base_uri": "https://localhost:8080/"
    },
    "executionInfo": {
     "elapsed": 2216,
     "status": "ok",
     "timestamp": 1621241170010,
     "user": {
      "displayName": "abhi bandgar",
      "photoUrl": "",
      "userId": "00420871405872623314"
     },
     "user_tz": -330
    },
    "id": "artistic-basis",
    "outputId": "84848352-7c63-42b5-c4e9-e5ebd3479fee"
   },
   "outputs": [
    {
     "data": {
      "text/plain": [
       "45.0"
      ]
     },
     "execution_count": 7,
     "metadata": {
      "tags": []
     },
     "output_type": "execute_result"
    }
   ],
   "source": [
    "a = 45 # int\n",
    "float(a)"
   ]
  },
  {
   "cell_type": "code",
   "execution_count": 8,
   "id": "packed-dryer",
   "metadata": {
    "colab": {
     "base_uri": "https://localhost:8080/"
    },
    "executionInfo": {
     "elapsed": 1443,
     "status": "ok",
     "timestamp": 1621241174008,
     "user": {
      "displayName": "abhi bandgar",
      "photoUrl": "",
      "userId": "00420871405872623314"
     },
     "user_tz": -330
    },
    "id": "packed-dryer",
    "outputId": "89062633-a8af-499c-a406-8ed5ae33ca78"
   },
   "outputs": [
    {
     "data": {
      "text/plain": [
       "(45+0j)"
      ]
     },
     "execution_count": 8,
     "metadata": {
      "tags": []
     },
     "output_type": "execute_result"
    }
   ],
   "source": [
    "complex(a)"
   ]
  },
  {
   "cell_type": "code",
   "execution_count": 9,
   "id": "recorded-oregon",
   "metadata": {
    "colab": {
     "base_uri": "https://localhost:8080/"
    },
    "executionInfo": {
     "elapsed": 1703,
     "status": "ok",
     "timestamp": 1621241178505,
     "user": {
      "displayName": "abhi bandgar",
      "photoUrl": "",
      "userId": "00420871405872623314"
     },
     "user_tz": -330
    },
    "id": "recorded-oregon",
    "outputId": "4a05af60-d9cb-4fda-d936-be2a3fb51b66"
   },
   "outputs": [
    {
     "data": {
      "text/plain": [
       "complex"
      ]
     },
     "execution_count": 9,
     "metadata": {
      "tags": []
     },
     "output_type": "execute_result"
    }
   ],
   "source": [
    "# Complex to int \n",
    "# can't convert complex to int\n",
    " \n",
    "a = 3+4j\n",
    "type(a)"
   ]
  },
  {
   "cell_type": "code",
   "execution_count": null,
   "id": "straight-flashing",
   "metadata": {
    "id": "straight-flashing",
    "outputId": "ecd78b10-50bf-45a2-adcd-e5168d8ece86"
   },
   "outputs": [
    {
     "ename": "TypeError",
     "evalue": "can't convert complex to int",
     "output_type": "error",
     "traceback": [
      "\u001b[1;31m---------------------------------------------------------------------------\u001b[0m",
      "\u001b[1;31mTypeError\u001b[0m                                 Traceback (most recent call last)",
      "\u001b[1;32m<ipython-input-54-8b2ab3991dae>\u001b[0m in \u001b[0;36m<module>\u001b[1;34m\u001b[0m\n\u001b[1;32m----> 1\u001b[1;33m \u001b[0mint\u001b[0m\u001b[1;33m(\u001b[0m\u001b[0ma\u001b[0m\u001b[1;33m)\u001b[0m\u001b[1;33m\u001b[0m\u001b[1;33m\u001b[0m\u001b[0m\n\u001b[0m",
      "\u001b[1;31mTypeError\u001b[0m: can't convert complex to int"
     ]
    }
   ],
   "source": [
    "int(a)"
   ]
  },
  {
   "cell_type": "code",
   "execution_count": 10,
   "id": "violent-agenda",
   "metadata": {
    "colab": {
     "base_uri": "https://localhost:8080/",
     "height": 301
    },
    "executionInfo": {
     "elapsed": 1778,
     "status": "error",
     "timestamp": 1621241189039,
     "user": {
      "displayName": "abhi bandgar",
      "photoUrl": "",
      "userId": "00420871405872623314"
     },
     "user_tz": -330
    },
    "id": "violent-agenda",
    "outputId": "a50454ad-8433-463e-efe8-aa1642ba9661"
   },
   "outputs": [
    {
     "ename": "TypeError",
     "evalue": "ignored",
     "output_type": "error",
     "traceback": [
      "\u001b[0;31m---------------------------------------------------------------------------\u001b[0m",
      "\u001b[0;31mTypeError\u001b[0m                                 Traceback (most recent call last)",
      "\u001b[0;32m<ipython-input-10-1935b4b16ed0>\u001b[0m in \u001b[0;36m<module>\u001b[0;34m()\u001b[0m\n\u001b[1;32m      1\u001b[0m \u001b[0;31m# can't convert complex to float\u001b[0m\u001b[0;34m\u001b[0m\u001b[0;34m\u001b[0m\u001b[0;34m\u001b[0m\u001b[0m\n\u001b[1;32m      2\u001b[0m \u001b[0ma\u001b[0m \u001b[0;34m=\u001b[0m \u001b[0;36m3.34\u001b[0m \u001b[0;34m+\u001b[0m \u001b[0;36m4j\u001b[0m\u001b[0;34m\u001b[0m\u001b[0;34m\u001b[0m\u001b[0m\n\u001b[0;32m----> 3\u001b[0;31m \u001b[0mfloat\u001b[0m\u001b[0;34m(\u001b[0m\u001b[0ma\u001b[0m\u001b[0;34m)\u001b[0m\u001b[0;34m\u001b[0m\u001b[0;34m\u001b[0m\u001b[0m\n\u001b[0m",
      "\u001b[0;31mTypeError\u001b[0m: can't convert complex to float"
     ]
    }
   ],
   "source": [
    "# can't convert complex to float\n",
    "a = 3.34 + 4j\n",
    "float(a)"
   ]
  },
  {
   "cell_type": "code",
   "execution_count": null,
   "id": "continuous-october",
   "metadata": {
    "id": "continuous-october"
   },
   "outputs": [],
   "source": [
    "# int, float to string"
   ]
  },
  {
   "cell_type": "code",
   "execution_count": 1,
   "id": "correct-haven",
   "metadata": {
    "colab": {
     "base_uri": "https://localhost:8080/"
    },
    "executionInfo": {
     "elapsed": 1780,
     "status": "ok",
     "timestamp": 1621241195433,
     "user": {
      "displayName": "abhi bandgar",
      "photoUrl": "",
      "userId": "00420871405872623314"
     },
     "user_tz": -330
    },
    "id": "correct-haven",
    "outputId": "baf61c34-4a07-46fb-cb22-552220ee1b8e"
   },
   "outputs": [
    {
     "name": "stdout",
     "output_type": "stream",
     "text": [
      "<class 'str'>\n"
     ]
    }
   ],
   "source": [
    "a = 34\n",
    "str1 = str(a)\n",
    "print(type(str1))"
   ]
  },
  {
   "cell_type": "code",
   "execution_count": 2,
   "id": "generous-flashing",
   "metadata": {
    "colab": {
     "base_uri": "https://localhost:8080/",
     "height": 52
    },
    "executionInfo": {
     "elapsed": 1946,
     "status": "ok",
     "timestamp": 1621241202511,
     "user": {
      "displayName": "abhi bandgar",
      "photoUrl": "",
      "userId": "00420871405872623314"
     },
     "user_tz": -330
    },
    "id": "generous-flashing",
    "outputId": "7648465b-4a25-4d95-ba46-d72e004bd25f"
   },
   "outputs": [
    {
     "name": "stdout",
     "output_type": "stream",
     "text": [
      "<class 'str'>\n"
     ]
    },
    {
     "data": {
      "text/plain": [
       "'34.45'"
      ]
     },
     "execution_count": 2,
     "metadata": {},
     "output_type": "execute_result"
    }
   ],
   "source": [
    "a = 34.45\n",
    "str1 = str(a)\n",
    "print(type(str1))\n",
    "str1"
   ]
  },
  {
   "cell_type": "code",
   "execution_count": 13,
   "id": "pending-expense",
   "metadata": {
    "colab": {
     "base_uri": "https://localhost:8080/"
    },
    "executionInfo": {
     "elapsed": 2305,
     "status": "ok",
     "timestamp": 1621241207547,
     "user": {
      "displayName": "abhi bandgar",
      "photoUrl": "",
      "userId": "00420871405872623314"
     },
     "user_tz": -330
    },
    "id": "pending-expense",
    "outputId": "400ac34b-4919-4c14-c5a9-4be9eb01c708"
   },
   "outputs": [
    {
     "data": {
      "text/plain": [
       "str"
      ]
     },
     "execution_count": 13,
     "metadata": {
      "tags": []
     },
     "output_type": "execute_result"
    }
   ],
   "source": [
    "str2 = 'python class'\n",
    "type(str2)"
   ]
  },
  {
   "cell_type": "code",
   "execution_count": null,
   "id": "included-adobe",
   "metadata": {
    "id": "included-adobe"
   },
   "outputs": [],
   "source": [
    "# int(str2)\n",
    "# float(str2)"
   ]
  },
  {
   "cell_type": "code",
   "execution_count": 14,
   "id": "first-details",
   "metadata": {
    "colab": {
     "base_uri": "https://localhost:8080/"
    },
    "executionInfo": {
     "elapsed": 891,
     "status": "ok",
     "timestamp": 1621241215911,
     "user": {
      "displayName": "abhi bandgar",
      "photoUrl": "",
      "userId": "00420871405872623314"
     },
     "user_tz": -330
    },
    "id": "first-details",
    "outputId": "8e44c0e5-e8e1-4010-b344-fd7697fa3bc9"
   },
   "outputs": [
    {
     "data": {
      "text/plain": [
       "int"
      ]
     },
     "execution_count": 14,
     "metadata": {
      "tags": []
     },
     "output_type": "execute_result"
    }
   ],
   "source": [
    "s1 = '  3456  '\n",
    "a = int(s1)\n",
    "type(a)"
   ]
  },
  {
   "cell_type": "code",
   "execution_count": 15,
   "id": "accomplished-pricing",
   "metadata": {
    "colab": {
     "base_uri": "https://localhost:8080/"
    },
    "executionInfo": {
     "elapsed": 1231,
     "status": "ok",
     "timestamp": 1621241220072,
     "user": {
      "displayName": "abhi bandgar",
      "photoUrl": "",
      "userId": "00420871405872623314"
     },
     "user_tz": -330
    },
    "id": "accomplished-pricing",
    "outputId": "0e0dbe45-bbbd-4850-e857-6546703d3409"
   },
   "outputs": [
    {
     "data": {
      "text/plain": [
       "34.56"
      ]
     },
     "execution_count": 15,
     "metadata": {
      "tags": []
     },
     "output_type": "execute_result"
    }
   ],
   "source": [
    "s1 = '34.56'\n",
    "a = float(s1)\n",
    "a"
   ]
  },
  {
   "cell_type": "code",
   "execution_count": null,
   "id": "pacific-element",
   "metadata": {
    "id": "pacific-element",
    "outputId": "85e786f6-416f-4811-83e5-94be2b534ccf"
   },
   "outputs": [
    {
     "data": {
      "text/plain": [
       "'  python class'"
      ]
     },
     "execution_count": 85,
     "metadata": {
      "tags": []
     },
     "output_type": "execute_result"
    }
   ],
   "source": [
    "s = '  python class    '\n",
    "# s.strip()\n",
    "# s.rstrip()"
   ]
  }
 ],
 "metadata": {
  "colab": {
   "name": "Data Types.ipynb",
   "provenance": []
  },
  "kernelspec": {
   "display_name": "Python 3",
   "language": "python",
   "name": "python3"
  },
  "language_info": {
   "codemirror_mode": {
    "name": "ipython",
    "version": 3
   },
   "file_extension": ".py",
   "mimetype": "text/x-python",
   "name": "python",
   "nbconvert_exporter": "python",
   "pygments_lexer": "ipython3",
   "version": "3.8.8"
  }
 },
 "nbformat": 4,
 "nbformat_minor": 5
}
